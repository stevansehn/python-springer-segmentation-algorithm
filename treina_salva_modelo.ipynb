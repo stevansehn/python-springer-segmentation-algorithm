{
 "cells": [
  {
   "cell_type": "code",
   "execution_count": 1,
   "metadata": {},
   "outputs": [
    {
     "ename": "ValueError",
     "evalue": "max() arg is an empty sequence",
     "output_type": "error",
     "traceback": [
      "\u001b[0;31m---------------------------------------------------------------------------\u001b[0m",
      "\u001b[0;31mValueError\u001b[0m                                Traceback (most recent call last)",
      "\u001b[0;32m<ipython-input-1-e837df341519>\u001b[0m in \u001b[0;36m<module>\u001b[0;34m\u001b[0m\n\u001b[1;32m     31\u001b[0m \u001b[0;34m\u001b[0m\u001b[0m\n\u001b[1;32m     32\u001b[0m \u001b[0;31m## Train the HMM:\u001b[0m\u001b[0;34m\u001b[0m\u001b[0;34m\u001b[0m\u001b[0;34m\u001b[0m\u001b[0m\n\u001b[0;32m---> 33\u001b[0;31m \u001b[0mB_matrix\u001b[0m\u001b[0;34m,\u001b[0m \u001b[0mpi_vector\u001b[0m\u001b[0;34m,\u001b[0m \u001b[0mtotal_obs_distribution\u001b[0m \u001b[0;34m=\u001b[0m \u001b[0mtrainSpringerSegmentationAlgorithm\u001b[0m\u001b[0;34m(\u001b[0m\u001b[0mtrain_recordings\u001b[0m\u001b[0;34m,\u001b[0m\u001b[0mtrain_annotations\u001b[0m\u001b[0;34m,\u001b[0m\u001b[0mspringer_options\u001b[0m\u001b[0;34m.\u001b[0m\u001b[0maudio_Fs\u001b[0m\u001b[0;34m)\u001b[0m\u001b[0;34m\u001b[0m\u001b[0;34m\u001b[0m\u001b[0m\n\u001b[0m\u001b[1;32m     34\u001b[0m \u001b[0;34m\u001b[0m\u001b[0m\n\u001b[1;32m     35\u001b[0m \u001b[0;31m# Salva em forma de dicionário\u001b[0m\u001b[0;34m\u001b[0m\u001b[0;34m\u001b[0m\u001b[0;34m\u001b[0m\u001b[0m\n",
      "\u001b[0;32m~/stevan/Qualirede/segmentador/trainSpringerSegmentationAlgorithm.py\u001b[0m in \u001b[0;36mtrainSpringerSegmentationAlgorithm\u001b[0;34m(PCGCellArray, annotationsArray, Fs)\u001b[0m\n\u001b[1;32m     24\u001b[0m         \u001b[0mPCG_Features\u001b[0m\u001b[0;34m,\u001b[0m \u001b[0mfeaturesFs\u001b[0m \u001b[0;34m=\u001b[0m \u001b[0mgetSpringerPCGFeatures\u001b[0m\u001b[0;34m(\u001b[0m\u001b[0mPCG_audio\u001b[0m\u001b[0;34m,\u001b[0m \u001b[0mFs\u001b[0m\u001b[0;34m)\u001b[0m\u001b[0;34m\u001b[0m\u001b[0;34m\u001b[0m\u001b[0m\n\u001b[1;32m     25\u001b[0m \u001b[0;34m\u001b[0m\u001b[0m\n\u001b[0;32m---> 26\u001b[0;31m         \u001b[0mPCG_states\u001b[0m \u001b[0;34m=\u001b[0m \u001b[0mlabelPCGStates\u001b[0m\u001b[0;34m(\u001b[0m\u001b[0mPCG_Features\u001b[0m\u001b[0;34m[\u001b[0m\u001b[0;34m:\u001b[0m\u001b[0;34m,\u001b[0m\u001b[0;36m0\u001b[0m\u001b[0;34m]\u001b[0m\u001b[0;34m,\u001b[0m \u001b[0mS1_locations\u001b[0m\u001b[0;34m,\u001b[0m \u001b[0mS2_locations\u001b[0m\u001b[0;34m,\u001b[0m \u001b[0mfeaturesFs\u001b[0m\u001b[0;34m,\u001b[0m \u001b[0;32mFalse\u001b[0m\u001b[0;34m)\u001b[0m\u001b[0;34m\u001b[0m\u001b[0;34m\u001b[0m\u001b[0m\n\u001b[0m\u001b[1;32m     27\u001b[0m \u001b[0;34m\u001b[0m\u001b[0m\n\u001b[1;32m     28\u001b[0m         \u001b[0;31m## Group together all observations from the same state in the PCG recordings:\u001b[0m\u001b[0;34m\u001b[0m\u001b[0;34m\u001b[0m\u001b[0;34m\u001b[0m\u001b[0m\n",
      "\u001b[0;32m~/stevan/Qualirede/segmentador/labelPCGStates.py\u001b[0m in \u001b[0;36mlabelPCGStates\u001b[0;34m(envelope, s1_positions, s2_positions, samplingFrequency, figures)\u001b[0m\n\u001b[1;32m     47\u001b[0m \u001b[0;34m\u001b[0m\u001b[0m\n\u001b[1;32m     48\u001b[0m         \u001b[0;31m# Find the maximum value of the envelope in the search window:\u001b[0m\u001b[0;34m\u001b[0m\u001b[0;34m\u001b[0m\u001b[0;34m\u001b[0m\u001b[0m\n\u001b[0;32m---> 49\u001b[0;31m         \u001b[0mS2_index\u001b[0m \u001b[0;34m=\u001b[0m \u001b[0mnp\u001b[0m\u001b[0;34m.\u001b[0m\u001b[0margwhere\u001b[0m\u001b[0;34m(\u001b[0m\u001b[0msearch_window\u001b[0m\u001b[0;34m==\u001b[0m\u001b[0mmax\u001b[0m\u001b[0;34m(\u001b[0m\u001b[0msearch_window\u001b[0m\u001b[0;34m)\u001b[0m\u001b[0;34m)\u001b[0m\u001b[0;34m[\u001b[0m\u001b[0;36m0\u001b[0m\u001b[0;34m]\u001b[0m\u001b[0;34m[\u001b[0m\u001b[0;36m0\u001b[0m\u001b[0;34m]\u001b[0m\u001b[0;34m\u001b[0m\u001b[0;34m\u001b[0m\u001b[0m\n\u001b[0m\u001b[1;32m     50\u001b[0m \u001b[0;34m\u001b[0m\u001b[0m\n\u001b[1;32m     51\u001b[0m         \u001b[0;31m#Find the actual index in the envelope of the maximum peak:\u001b[0m\u001b[0;34m\u001b[0m\u001b[0;34m\u001b[0m\u001b[0;34m\u001b[0m\u001b[0m\n",
      "\u001b[0;31mValueError\u001b[0m: max() arg is an empty sequence"
     ]
    }
   ],
   "source": [
    "import numpy as np\n",
    "import scipy.io as scio\n",
    "import pickle\n",
    "from default_Springer_HSMM_options import *\n",
    "from trainSpringerSegmentationAlgorithm import *\n",
    "\n",
    "## Load the default options:\n",
    "# These options control options such as the original sampling frequency of\n",
    "# the data, the sampling frequency for the derived features and whether the\n",
    "# mex code should be used for the Viterbi decoding:\n",
    "\n",
    "springer_options = default_Springer_HSMM_options(SpringerOptions)\n",
    "\n",
    "## Load the audio data and the annotations:\n",
    "# These are 6 example PCG recordings, downsampled to 1000 Hz, with\n",
    "# annotations of the R-peak and end-T-wave positions.\n",
    "mat = scio.loadmat('example_data.mat')\n",
    "example_data = mat['example_data']\n",
    "# example_data = scio.loadmat('example_data.mat', struct_as_record=False, squeeze_me=True)\n",
    "\n",
    "## Split the data into train and test sets:\n",
    "# Select the 5 recordings for training and a sixth for testing:\n",
    "# training_indices = [0, 46, 360, 401, 571] # MATLAB 1, 47, 361, 402, 572\n",
    "training_indices = np.arange(0,792)\n",
    "\n",
    "train_recordings = []\n",
    "train_annotations = []\n",
    "for i in training_indices:\n",
    "    train_recordings.append(example_data[0,0]['example_audio_data'][0][i])\n",
    "    train_annotations.append(example_data[0][0]['example_annotations'][i][:])\n",
    "\n",
    "## Train the HMM:\n",
    "B_matrix, pi_vector, total_obs_distribution = trainSpringerSegmentationAlgorithm(train_recordings,train_annotations,springer_options.audio_Fs)\n",
    "\n",
    "# Salva em forma de dicionário \n",
    "springerDict = dict(b_matrix=B_matrix,pi_vector=pi_vector,total_obs_distribution=total_obs_distribution)\n",
    "pkl_file = open('springerDict.pkl', 'wb')\n",
    "pickle.dump(springerDict, pkl_file)\n",
    "pkl_file.close()"
   ]
  },
  {
   "cell_type": "code",
   "execution_count": null,
   "metadata": {},
   "outputs": [],
   "source": []
  }
 ],
 "metadata": {
  "kernelspec": {
   "display_name": "Python 3",
   "language": "python",
   "name": "python3"
  },
  "language_info": {
   "codemirror_mode": {
    "name": "ipython",
    "version": 3
   },
   "file_extension": ".py",
   "mimetype": "text/x-python",
   "name": "python",
   "nbconvert_exporter": "python",
   "pygments_lexer": "ipython3",
   "version": "3.7.5"
  }
 },
 "nbformat": 4,
 "nbformat_minor": 2
}
