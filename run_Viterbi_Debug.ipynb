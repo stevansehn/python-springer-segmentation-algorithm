{
 "cells": [
  {
   "cell_type": "code",
   "execution_count": 1,
   "metadata": {},
   "outputs": [],
   "source": [
    "# import numpy as np\n",
    "# import scipy.io as scio\n",
    "# import pickle\n",
    "# from default_Springer_HSMM_options import *\n",
    "# from trainSpringerSegmentationAlgorithm import *\n",
    "# from runSpringerSegmentationAlgorithm import *\n",
    "# from plot_figs import *\n",
    "\n",
    "# ## Load the default options:\n",
    "# # These options control options such as the original sampling frequency of\n",
    "# # the data, the sampling frequency for the derived features and whether the\n",
    "# # mex code should be used for the Viterbi decoding:\n",
    "\n",
    "# springer_options = default_Springer_HSMM_options(SpringerOptions)\n",
    "\n",
    "# mat = scio.loadmat('example_data.mat')\n",
    "# example_data = mat['example_data']\n",
    "\n",
    "# # Abre o arquivo\n",
    "# pkl_file = open('springerList.pkl', 'rb')\n",
    "# B_matrix, pi_vector, total_obs_distribution = pickle.load(pkl_file)\n",
    "# pkl_file.close()"
   ]
  },
  {
   "cell_type": "code",
   "execution_count": 2,
   "metadata": {},
   "outputs": [],
   "source": [
    "# test_index = 663\n",
    "# test_recordings = [example_data[0][0]['example_audio_data'][0][test_index]]\n",
    "# test_annotations = [example_data[0][0]['example_annotations'][test_index][:]]\n",
    "\n",
    "# ## Run the HMM on an unseen test recording:\n",
    "# # And display the resulting segmentation\n",
    "# numPCGs = len(test_recordings)\n",
    "\n",
    "# PCGi = 0\n",
    "# audio_data = test_recordings[PCGi]\n",
    "# Fs = springer_options.audio_Fs"
   ]
  },
  {
   "cell_type": "code",
   "execution_count": 16,
   "metadata": {},
   "outputs": [
    {
     "name": "stdout",
     "output_type": "stream",
     "text": [
      "training-a | File 1 of 1 | a0045\n"
     ]
    }
   ],
   "source": [
    "import numpy as np\n",
    "import scipy.io as scio\n",
    "import os\n",
    "import librosa\n",
    "import generateSegmentationData as gsd\n",
    "import pathlib\n",
    "import scipy.io as scio\n",
    "import pickle\n",
    "from trainSpringerSegmentationAlgorithm import *\n",
    "from runSpringerSegmentationAlgorithm import *\n",
    "from plot_figs import save_figs\n",
    "from undoSegmentationData import *\n",
    "\n",
    "## Load the default options:\n",
    "# These options control options such as the original sampling frequency of\n",
    "# the data, the sampling frequency for the derived features and whether the\n",
    "# mex code should be used for the Viterbi decoding:\n",
    "\n",
    "springer_options = default_Springer_HSMM_options(SpringerOptions)\n",
    "\n",
    "# Carrega o modelo\n",
    "filepath = '/home/linse/stevan/Qualirede/segmentador/springerList.pkl'\n",
    "pkl_file = open(filepath, 'rb')\n",
    "model = pickle.load(pkl_file)\n",
    "pkl_file.close()\n",
    "\n",
    "# Define os paths\n",
    "inputRoot = '/media/linse/DADOS/stevan/datasets/heart-sound/training'\n",
    "inputRoot = pathlib.Path(inputRoot)\n",
    "\n",
    "outputRoot = '/media/linse/DADOS/stevan/datasets/heart-sound/python_segmentation/'\n",
    "outputRoot = pathlib.Path(outputRoot)\n",
    "outputRoot.mkdir(parents=True, exist_ok=True)\n",
    "\n",
    "# segInputRoot = '/media/linse/DADOS/stevan/datasets/heart-sound/extra_data/hand_corrected_annotations_training/'\n",
    "segInputRoot = '/media/linse/DADOS/stevan/datasets/heart-sound/extra_data/automated_Springer_annotations_training/'\n",
    "segInputRoot = pathlib.Path(segInputRoot)\n",
    "\n",
    "# Coloca as listas em ordem alfabética\n",
    "folderList = sorted(list(inputRoot.glob('training*')))\n",
    "segFolderList = sorted(list(segInputRoot.glob('training*')))\n",
    "\n",
    "# 'training-a/', 'training-b/', 'training-c/', 'training-d/', 'training-e/', 'training-f/'\n",
    "# for i in range(len(folderList)):\n",
    "for i in range(1):\n",
    "    fname = folderList[i].name\n",
    "    \n",
    "    inFolder = inputRoot / fname\n",
    "    outFolder = outputRoot / fname\n",
    "    outFolder.mkdir(parents=True, exist_ok=True)\n",
    "    \n",
    "    fname = fname+'-Aut'\n",
    "    segInFolder = segInputRoot / fname\n",
    "    \n",
    "    fileList = sorted(list(inFolder.glob('*.wav')))\n",
    "    segFileList = sorted(list(segInFolder.glob('*.mat')))\n",
    "    \n",
    "    fileList = fileList[44:45]\n",
    "\n",
    "    for k in range(len(fileList)):\n",
    "        recordName = inFolder / fileList[k]\n",
    "        outFile = (outFolder / fileList[k].stem).with_suffix('.npz')\n",
    "        fileName = segInFolder / segFileList[k]\n",
    "        \n",
    "        print(f'{folderList[i].name} | File {k+1} of {len(fileList)} | {fileList[k].stem}')\n",
    "        \n",
    "        # Load data and resample data\n",
    "        PCG_resampled = librosa.load(recordName,sr=springer_options.audio_Fs)[0]"
   ]
  },
  {
   "cell_type": "code",
   "execution_count": 17,
   "metadata": {},
   "outputs": [],
   "source": [
    "## Load the default options:\n",
    "\n",
    "springer_options = default_Springer_HSMM_options(SpringerOptions)\n",
    "Fs = springer_options.audio_Fs\n",
    "\n",
    "## Get model parameters\n",
    "\n",
    "B_matrix, pi_vector, total_obs_distribution = model"
   ]
  },
  {
   "cell_type": "code",
   "execution_count": 18,
   "metadata": {},
   "outputs": [],
   "source": [
    "import numpy as np\n",
    "import librosa\n",
    "from default_Springer_HSMM_options import *\n",
    "from butterworth_filters import *\n",
    "from schmidt_spike_removal import *\n",
    "from normalise_signal import *\n",
    "from Homomorphic_Envelope_with_Hilbert import *\n",
    "from Hilbert_Envelope import *\n",
    "from get_PSD_feature_Springer_HMM import *\n",
    "from getDWT import *\n",
    "\n",
    "audio_data = PCG_resampled\n",
    "\n",
    "# def getSpringerPCGFeatures(audio_data, Fs, figures=False):\n",
    "# function PCG_Features = getSpringerPCGFeatures(audio, Fs)\n",
    "# Get the features used in the Springer segmentation algorithm.\n",
    "\n",
    "springer_options = default_Springer_HSMM_options(SpringerOptions)\n",
    "\n",
    "## Check to see if the Wavelet toolbox is available on the machine:\n",
    "include_wavelet = springer_options.include_wavelet_feature \n",
    "featuresFs = springer_options.audio_segmentation_Fs # Downsampled feature sampling frequency\n",
    "\n",
    "## 25-400Hz 4th order Butterworth band pass\n",
    "audio_data = butterworth_low_pass_filter(audio_data,2,400,Fs)\n",
    "audio_data = butterworth_high_pass_filter(audio_data,2,25,Fs)"
   ]
  },
  {
   "cell_type": "code",
   "execution_count": 302,
   "metadata": {},
   "outputs": [
    {
     "data": {
      "text/plain": [
       "(35875,)"
      ]
     },
     "execution_count": 302,
     "metadata": {},
     "output_type": "execute_result"
    }
   ],
   "source": [
    "import numpy as np\n",
    "from statistics import median\n",
    "\n",
    "original_signal = audio_data\n",
    "fs = Fs\n",
    "original_signal.shape"
   ]
  },
  {
   "cell_type": "code",
   "execution_count": 303,
   "metadata": {},
   "outputs": [
    {
     "data": {
      "text/plain": [
       "(500, 375, (35500,))"
      ]
     },
     "execution_count": 303,
     "metadata": {},
     "output_type": "execute_result"
    }
   ],
   "source": [
    "# def schmidt_spike_removal(original_signal, fs):\n",
    "    \n",
    "# Find the window size (500 ms)\n",
    "windowsize = round(fs/2)\n",
    "\n",
    "# Find any samples outside of a integer number of windows:\n",
    "trailingsamples = len(original_signal) % windowsize\n",
    "\n",
    "# Reshape the signal into a number of windows:\n",
    "sampleframes = original_signal[:len(original_signal)-trailingsamples]\n",
    "\n",
    "windowsize, trailingsamples, sampleframes.shape"
   ]
  },
  {
   "cell_type": "code",
   "execution_count": 304,
   "metadata": {},
   "outputs": [
    {
     "data": {
      "text/plain": [
       "(500, 71)"
      ]
     },
     "execution_count": 304,
     "metadata": {},
     "output_type": "execute_result"
    }
   ],
   "source": [
    "sampleframes = sampleframes.reshape(windowsize,-1,order='F')\n",
    "sampleframes.shape"
   ]
  },
  {
   "cell_type": "code",
   "execution_count": 305,
   "metadata": {},
   "outputs": [],
   "source": [
    "def get_MAAs(sampleframes):\n",
    "    M = []\n",
    "    for i in range(len(sampleframes[0,:])):\n",
    "        M.append(max(abs(sampleframes[:,i])))\n",
    "    MAAs = np.array(M)\n",
    "    return MAAs"
   ]
  },
  {
   "cell_type": "code",
   "execution_count": 307,
   "metadata": {},
   "outputs": [
    {
     "data": {
      "text/plain": [
       "(array([0.05455746, 0.73185016, 0.06780181, 0.81726091, 0.09713932,\n",
       "        0.74516327, 0.08630908, 0.69954506, 0.12447804, 0.77261722,\n",
       "        0.22271207, 0.02881977, 0.74279339, 0.0216182 , 0.81761337,\n",
       "        0.09786286, 0.81670202, 0.1087732 , 0.80511996, 0.0930815 ,\n",
       "        0.81022931, 0.09154014, 0.79190463, 0.22212671, 0.03319415,\n",
       "        0.79532517, 0.02610673, 0.80808411, 0.07082504, 0.77431265,\n",
       "        0.11526874, 0.66513013, 0.0800697 , 0.84874737, 0.1013283 ,\n",
       "        0.83440757, 0.1157187 , 0.83650264, 0.68542493, 0.02656417,\n",
       "        0.75045641, 0.04563729, 0.79132721, 0.08801378, 0.77129449,\n",
       "        0.06999517, 0.84241321, 0.16626033, 0.93131555, 0.09024964,\n",
       "        0.90588139, 0.10629364, 0.03826258, 0.9304115 , 0.03236624,\n",
       "        0.78606596, 0.10810866, 0.84546212, 0.09260469, 0.72531429,\n",
       "        0.09129389, 0.85005561, 0.11465431, 0.82548012, 0.08355567,\n",
       "        0.87218445, 0.28841796, 0.95476479, 0.05069621, 0.72143891,\n",
       "        0.096065  ]), (71,))"
      ]
     },
     "execution_count": 307,
     "metadata": {},
     "output_type": "execute_result"
    }
   ],
   "source": [
    "# Find the MAAs:\n",
    "MAAs = get_MAAs(sampleframes)\n",
    "MAAs, MAAs.shape"
   ]
  },
  {
   "cell_type": "code",
   "execution_count": 308,
   "metadata": {},
   "outputs": [
    {
     "data": {
      "text/plain": [
       "0.668136204204411"
      ]
     },
     "execution_count": 308,
     "metadata": {},
     "output_type": "execute_result"
    }
   ],
   "source": [
    "median(MAAs)*3"
   ]
  },
  {
   "cell_type": "code",
   "execution_count": 310,
   "metadata": {},
   "outputs": [
    {
     "data": {
      "text/plain": [
       "array([0, 1, 0, 1, 0, 1, 0, 1, 0, 1, 0, 0, 1, 0, 1, 0, 1, 0, 1, 0, 1, 0,\n",
       "       1, 0, 0, 1, 0, 1, 0, 1, 0, 0, 0, 1, 0, 1, 0, 1, 1, 0, 1, 0, 1, 0,\n",
       "       1, 0, 1, 0, 1, 0, 1, 0, 0, 1, 0, 1, 0, 1, 0, 1, 0, 1, 0, 1, 0, 1,\n",
       "       0, 1, 0, 1, 0])"
      ]
     },
     "execution_count": 310,
     "metadata": {},
     "output_type": "execute_result"
    }
   ],
   "source": [
    "(MAAs>median(MAAs)*3)*1"
   ]
  },
  {
   "cell_type": "code",
   "execution_count": 311,
   "metadata": {},
   "outputs": [
    {
     "data": {
      "text/plain": [
       "(array([ 1,  3,  5,  7,  9, 12, 14, 16, 18, 20, 22, 25, 27, 29, 33, 35, 37,\n",
       "        38, 40, 42, 44, 46, 48, 50, 53, 55, 57, 59, 61, 63, 65, 67, 69]),)"
      ]
     },
     "execution_count": 311,
     "metadata": {},
     "output_type": "execute_result"
    }
   ],
   "source": [
    "np.nonzero(MAAs>median(MAAs)*3)"
   ]
  },
  {
   "cell_type": "code",
   "execution_count": 312,
   "metadata": {},
   "outputs": [
    {
     "data": {
      "text/plain": [
       "array([0.73185016, 0.81726091, 0.74516327, 0.69954506, 0.77261722,\n",
       "       0.74279339, 0.81761337, 0.81670202, 0.80511996, 0.81022931,\n",
       "       0.79190463, 0.79532517, 0.80808411, 0.77431265, 0.84874737,\n",
       "       0.83440757, 0.83650264, 0.68542493, 0.75045641, 0.79132721,\n",
       "       0.77129449, 0.84241321, 0.93131555, 0.90588139, 0.9304115 ,\n",
       "       0.78606596, 0.84546212, 0.72531429, 0.85005561, 0.82548012,\n",
       "       0.87218445, 0.95476479, 0.72143891])"
      ]
     },
     "execution_count": 312,
     "metadata": {},
     "output_type": "execute_result"
    }
   ],
   "source": [
    "MAAs[np.nonzero(MAAs>median(MAAs)*3)]"
   ]
  },
  {
   "cell_type": "code",
   "execution_count": 193,
   "metadata": {},
   "outputs": [],
   "source": [
    "# While there are still samples greater than 3* the median value of the\n",
    "# MAAs, then remove those spikes:\n",
    "emptyarray = np.nonzero(MAAs>median(MAAs)*3)[0]"
   ]
  },
  {
   "cell_type": "code",
   "execution_count": 283,
   "metadata": {},
   "outputs": [
    {
     "data": {
      "text/plain": [
       "True"
      ]
     },
     "execution_count": 283,
     "metadata": {},
     "output_type": "execute_result"
    }
   ],
   "source": [
    "not emptyarray.size==0"
   ]
  },
  {
   "cell_type": "code",
   "execution_count": 284,
   "metadata": {},
   "outputs": [
    {
     "data": {
      "text/plain": [
       "(array([0.05455746, 0.73185016, 0.06780181, 0.81726091, 0.09713932,\n",
       "        0.74516327, 0.08630908, 0.69954506, 0.12447804, 0.77261722,\n",
       "        0.22271207, 0.02881977, 0.74279339, 0.0216182 , 0.81761337,\n",
       "        0.09786286, 0.81670202, 0.1087732 , 0.80511996, 0.0930815 ,\n",
       "        0.81022931, 0.09154014, 0.79190463, 0.22212671, 0.03319415,\n",
       "        0.79532517, 0.02610673, 0.80808411, 0.07082504, 0.77431265,\n",
       "        0.11526874, 0.66513013, 0.0800697 , 0.84874737, 0.1013283 ,\n",
       "        0.83440757, 0.1157187 , 0.83650264, 0.68542493, 0.02656417,\n",
       "        0.75045641, 0.04563729, 0.79132721, 0.08801378, 0.77129449,\n",
       "        0.06999517, 0.84241321, 0.16626033, 0.93131555, 0.09024964,\n",
       "        0.90588139, 0.10629364, 0.03826258, 0.9304115 , 0.03236624,\n",
       "        0.78606596, 0.10810866, 0.84546212, 0.09260469, 0.72531429,\n",
       "        0.09129389, 0.85005561, 0.11465431, 0.82548012, 0.08355567,\n",
       "        0.87218445, 0.28841796, 0.95476479, 0.05069621, 0.72143891,\n",
       "        0.096065  ]), 0.9547647889300758, (71,))"
      ]
     },
     "execution_count": 284,
     "metadata": {},
     "output_type": "execute_result"
    }
   ],
   "source": [
    "MAAs, max(MAAs), MAAs.shape"
   ]
  },
  {
   "cell_type": "code",
   "execution_count": 285,
   "metadata": {},
   "outputs": [
    {
     "data": {
      "text/plain": [
       "67"
      ]
     },
     "execution_count": 285,
     "metadata": {},
     "output_type": "execute_result"
    }
   ],
   "source": [
    "np.argmax(MAAs, axis=None)"
   ]
  },
  {
   "cell_type": "code",
   "execution_count": 286,
   "metadata": {},
   "outputs": [
    {
     "data": {
      "text/plain": [
       "0.9547647889300758"
      ]
     },
     "execution_count": 286,
     "metadata": {},
     "output_type": "execute_result"
    }
   ],
   "source": [
    "MAAs[np.argmax(MAAs, axis=None)]"
   ]
  },
  {
   "cell_type": "code",
   "execution_count": 287,
   "metadata": {},
   "outputs": [
    {
     "data": {
      "text/plain": [
       "67"
      ]
     },
     "execution_count": 287,
     "metadata": {},
     "output_type": "execute_result"
    }
   ],
   "source": [
    "np.unravel_index(np.argmax(MAAs, axis=None), MAAs.shape)[0]"
   ]
  },
  {
   "cell_type": "code",
   "execution_count": 386,
   "metadata": {},
   "outputs": [
    {
     "data": {
      "text/plain": [
       "(0.6670901500640112, 29, 1)"
      ]
     },
     "execution_count": 386,
     "metadata": {},
     "output_type": "execute_result"
    }
   ],
   "source": [
    "# Find the window with the max MAA:\n",
    "val = max(MAAs)\n",
    "# window_num = np.unravel_index(np.argmax(MAAs, axis=None), MAAs.shape)\n",
    "# window_num = window_num[0]\n",
    "window_num = np.argmax(MAAs)\n",
    "val, window_num, window_num.size"
   ]
  },
  {
   "cell_type": "code",
   "execution_count": 318,
   "metadata": {},
   "outputs": [],
   "source": [
    "if(window_num.size>1):\n",
    "    window_num = window_num[0]"
   ]
  },
  {
   "cell_type": "code",
   "execution_count": 319,
   "metadata": {},
   "outputs": [
    {
     "data": {
      "text/plain": [
       "(array([[-0.00229255,  0.00047445, -0.00634267, ..., -0.03585618,\n",
       "         -0.007799  ,  0.01133828],\n",
       "        [-0.05430583, -0.00135892, -0.00720049, ..., -0.03960506,\n",
       "         -0.00897305,  0.01718205],\n",
       "        [-0.05455526, -0.00561921, -0.01073508, ..., -0.04193559,\n",
       "         -0.00630515,  0.03538752],\n",
       "        ...,\n",
       "        [ 0.00176307, -0.01821329,  0.00266135, ...,  0.01101859,\n",
       "         -0.02226684, -0.00164722],\n",
       "        [ 0.00235558, -0.00898492,  0.00566291, ...,  0.00400381,\n",
       "         -0.00060129, -0.00026829],\n",
       "        [ 0.0006753 , -0.00386624,  0.00934696, ..., -0.00431992,\n",
       "          0.01115824,  0.00046018]]), (500, 71))"
      ]
     },
     "execution_count": 319,
     "metadata": {},
     "output_type": "execute_result"
    }
   ],
   "source": [
    "sampleframes, sampleframes.shape"
   ]
  },
  {
   "cell_type": "code",
   "execution_count": 320,
   "metadata": {},
   "outputs": [
    {
     "data": {
      "text/plain": [
       "(500,)"
      ]
     },
     "execution_count": 320,
     "metadata": {},
     "output_type": "execute_result"
    }
   ],
   "source": [
    "abs(sampleframes[:,window_num]).shape"
   ]
  },
  {
   "cell_type": "code",
   "execution_count": 321,
   "metadata": {},
   "outputs": [
    {
     "data": {
      "text/plain": [
       "0.9547647889300758"
      ]
     },
     "execution_count": 321,
     "metadata": {},
     "output_type": "execute_result"
    }
   ],
   "source": [
    "val = max(abs(sampleframes[:,window_num]))\n",
    "val"
   ]
  },
  {
   "cell_type": "code",
   "execution_count": 322,
   "metadata": {},
   "outputs": [
    {
     "data": {
      "text/plain": [
       "66"
      ]
     },
     "execution_count": 322,
     "metadata": {},
     "output_type": "execute_result"
    }
   ],
   "source": [
    "spike_position = np.argmax(abs(sampleframes[:,window_num]))\n",
    "spike_position"
   ]
  },
  {
   "cell_type": "code",
   "execution_count": 323,
   "metadata": {},
   "outputs": [
    {
     "data": {
      "text/plain": [
       "-0.9547647889300758"
      ]
     },
     "execution_count": 323,
     "metadata": {},
     "output_type": "execute_result"
    }
   ],
   "source": [
    "sampleframes[spike_position,window_num]"
   ]
  },
  {
   "cell_type": "code",
   "execution_count": 324,
   "metadata": {},
   "outputs": [
    {
     "data": {
      "text/plain": [
       "(0.9547647889300758, 66)"
      ]
     },
     "execution_count": 324,
     "metadata": {},
     "output_type": "execute_result"
    }
   ],
   "source": [
    "# Find the postion of the spike within that window:\n",
    "val = max(abs(sampleframes[:,window_num]))\n",
    "# spike_position = np.unravel_index(np.argmax(abs(sampleframes[:,window_num]), axis=None), abs(sampleframes[:,window_num]).shape)\n",
    "# spike_position = spike_position[0]\n",
    "spike_position = np.argmax(abs(sampleframes[:,window_num]))\n",
    "val, spike_position"
   ]
  },
  {
   "cell_type": "code",
   "execution_count": 325,
   "metadata": {},
   "outputs": [],
   "source": [
    "if(spike_position.size>1):\n",
    "    spike_position = spike_position[0]"
   ]
  },
  {
   "cell_type": "code",
   "execution_count": 326,
   "metadata": {},
   "outputs": [
    {
     "data": {
      "text/plain": [
       "array([-1., -1., -1.,  1.,  1.,  1.,  1.,  1.,  1.,  1.])"
      ]
     },
     "execution_count": 326,
     "metadata": {},
     "output_type": "execute_result"
    }
   ],
   "source": [
    "np.sign(sampleframes[:10,window_num])"
   ]
  },
  {
   "cell_type": "code",
   "execution_count": 327,
   "metadata": {},
   "outputs": [
    {
     "data": {
      "text/plain": [
       "array([0., 0., 2., 0., 0., 0., 0., 0., 0.])"
      ]
     },
     "execution_count": 327,
     "metadata": {},
     "output_type": "execute_result"
    }
   ],
   "source": [
    "np.diff(np.sign(sampleframes[:10,window_num]))"
   ]
  },
  {
   "cell_type": "code",
   "execution_count": 328,
   "metadata": {},
   "outputs": [
    {
     "data": {
      "text/plain": [
       "array([0., 0., 2., 0., 0., 0., 0., 0., 0.])"
      ]
     },
     "execution_count": 328,
     "metadata": {},
     "output_type": "execute_result"
    }
   ],
   "source": [
    "abs(np.diff(np.sign(sampleframes[:10,window_num])))"
   ]
  },
  {
   "cell_type": "code",
   "execution_count": 329,
   "metadata": {},
   "outputs": [
    {
     "data": {
      "text/plain": [
       "array([0, 0, 1, 0, 0, 0, 0, 0, 0])"
      ]
     },
     "execution_count": 329,
     "metadata": {},
     "output_type": "execute_result"
    }
   ],
   "source": [
    "(abs(np.diff(np.sign(sampleframes[:10,window_num])))>1)*1"
   ]
  },
  {
   "cell_type": "code",
   "execution_count": 330,
   "metadata": {},
   "outputs": [
    {
     "data": {
      "text/plain": [
       "(array([0, 0, 1, 0, 0, 0, 0, 0, 0, 0, 0, 0, 0, 0, 0, 1, 0, 0, 0, 0, 0, 0,\n",
       "        0, 0, 0, 0, 0, 0, 0, 1, 0, 0, 0, 0, 0, 0, 1, 0, 0, 0, 1, 0, 0, 0,\n",
       "        0, 0, 0, 0, 1, 0, 0, 1, 0, 1, 0, 0, 0, 0, 1, 0, 0, 0, 0, 0, 0, 1,\n",
       "        1, 0, 0, 0, 0, 0, 0, 1, 0, 0, 0, 0, 0, 0, 1, 0, 0, 0, 0, 1, 0, 0,\n",
       "        0, 0, 0, 1, 0, 0, 0, 0, 0, 0, 0, 0, 1, 0, 0, 0, 0, 1, 0, 0, 0, 1,\n",
       "        0, 0, 0, 0, 0, 0, 0, 1, 0, 0, 0, 0, 0, 0, 0, 1, 0, 0, 0, 0, 0, 1,\n",
       "        0, 0, 0, 0, 1, 0, 0, 1, 0, 0, 0, 0, 0, 1, 0, 0, 0, 0, 0, 0, 0, 0,\n",
       "        0, 0, 0, 0, 0, 1, 0, 0, 0, 0, 0, 0, 0, 0, 1, 0, 0, 0, 0, 0, 0, 0,\n",
       "        0, 0, 0, 0, 0, 1, 0, 0, 0, 1, 0, 0, 1, 0, 0, 0, 0, 1, 0, 0, 0, 1,\n",
       "        0, 0, 0, 0, 1, 0, 0, 0, 0, 0, 0, 1, 0, 0, 0, 1, 0, 0, 0, 1, 1, 0,\n",
       "        0, 0, 1, 0, 0, 0, 0, 0, 0, 1, 0, 0, 0, 1, 0, 0, 0, 0, 1, 0, 0, 0,\n",
       "        0, 0, 0, 0, 1, 0, 0, 0, 0, 1, 0, 0, 0, 0, 0, 0, 0, 1, 0, 0, 0, 0,\n",
       "        1, 0, 0, 0, 0, 1, 0, 1, 1, 0, 0, 0, 0, 0, 1, 0, 0, 1, 0, 1, 0, 1,\n",
       "        0, 0, 0, 1, 0, 0, 0, 0, 0, 0, 1, 1, 0, 0, 0, 0, 1, 0, 0, 0, 0, 0,\n",
       "        0, 0, 1, 0, 0, 0, 0, 1, 0, 0, 0, 1, 0, 0, 0, 1, 0, 0, 1, 0, 1, 0,\n",
       "        0, 1, 0, 0, 0, 0, 0, 1, 0, 0, 1, 0, 1, 0, 0, 0, 0, 0, 0, 0, 0, 0,\n",
       "        1, 0, 0, 0, 0, 0, 1, 0, 0, 0, 0, 0, 0, 1, 0, 0, 0, 0, 0, 1, 0, 0,\n",
       "        1, 0, 0, 0, 0, 0, 0, 1, 0, 0, 0, 0, 0, 0, 0, 0, 0, 0, 0, 1, 0, 1,\n",
       "        0, 0, 0, 0, 0, 0, 1, 0, 0, 0, 0, 0, 0, 0, 0, 0, 1, 0, 0, 0, 0, 0,\n",
       "        0, 0, 0, 0, 0, 0, 0, 0, 0, 0, 0, 0, 1, 0, 0, 0, 0, 0, 0, 0, 0, 0,\n",
       "        0, 0, 0, 0, 0, 0, 0, 0, 1, 0, 0, 0, 0, 0, 0, 0, 0, 0, 0, 1, 0, 0,\n",
       "        0, 0, 0, 0, 1, 0, 0, 0, 0, 0, 0, 0, 0, 0, 1, 0, 0, 0, 0, 0, 0, 0,\n",
       "        1, 0, 0, 0, 0, 0, 0, 0, 0, 1, 0, 0, 0, 0, 0]), (499,))"
      ]
     },
     "execution_count": 330,
     "metadata": {},
     "output_type": "execute_result"
    }
   ],
   "source": [
    "le_zero_crossings = (abs(np.diff(np.sign(sampleframes[:,window_num])))>1)*1\n",
    "le_zero_crossings, le_zero_crossings.shape"
   ]
  },
  {
   "cell_type": "code",
   "execution_count": 331,
   "metadata": {},
   "outputs": [
    {
     "data": {
      "text/plain": [
       "(array([0, 0, 1, 0, 0, 0, 0, 0, 0, 0, 0, 0, 0, 0, 0, 1, 0, 0, 0, 0, 0, 0,\n",
       "        0, 0, 0, 0, 0, 0, 0, 1, 0, 0, 0, 0, 0, 0, 1, 0, 0, 0, 1, 0, 0, 0,\n",
       "        0, 0, 0, 0, 1, 0, 0, 1, 0, 1, 0, 0, 0, 0, 1, 0, 0, 0, 0, 0, 0, 1,\n",
       "        1, 0, 0, 0, 0, 0, 0, 1, 0, 0, 0, 0, 0, 0, 1, 0, 0, 0, 0, 1, 0, 0,\n",
       "        0, 0, 0, 1, 0, 0, 0, 0, 0, 0, 0, 0, 1, 0, 0, 0, 0, 1, 0, 0, 0, 1,\n",
       "        0, 0, 0, 0, 0, 0, 0, 1, 0, 0, 0, 0, 0, 0, 0, 1, 0, 0, 0, 0, 0, 1,\n",
       "        0, 0, 0, 0, 1, 0, 0, 1, 0, 0, 0, 0, 0, 1, 0, 0, 0, 0, 0, 0, 0, 0,\n",
       "        0, 0, 0, 0, 0, 1, 0, 0, 0, 0, 0, 0, 0, 0, 1, 0, 0, 0, 0, 0, 0, 0,\n",
       "        0, 0, 0, 0, 0, 1, 0, 0, 0, 1, 0, 0, 1, 0, 0, 0, 0, 1, 0, 0, 0, 1,\n",
       "        0, 0, 0, 0, 1, 0, 0, 0, 0, 0, 0, 1, 0, 0, 0, 1, 0, 0, 0, 1, 1, 0,\n",
       "        0, 0, 1, 0, 0, 0, 0, 0, 0, 1, 0, 0, 0, 1, 0, 0, 0, 0, 1, 0, 0, 0,\n",
       "        0, 0, 0, 0, 1, 0, 0, 0, 0, 1, 0, 0, 0, 0, 0, 0, 0, 1, 0, 0, 0, 0,\n",
       "        1, 0, 0, 0, 0, 1, 0, 1, 1, 0, 0, 0, 0, 0, 1, 0, 0, 1, 0, 1, 0, 1,\n",
       "        0, 0, 0, 1, 0, 0, 0, 0, 0, 0, 1, 1, 0, 0, 0, 0, 1, 0, 0, 0, 0, 0,\n",
       "        0, 0, 1, 0, 0, 0, 0, 1, 0, 0, 0, 1, 0, 0, 0, 1, 0, 0, 1, 0, 1, 0,\n",
       "        0, 1, 0, 0, 0, 0, 0, 1, 0, 0, 1, 0, 1, 0, 0, 0, 0, 0, 0, 0, 0, 0,\n",
       "        1, 0, 0, 0, 0, 0, 1, 0, 0, 0, 0, 0, 0, 1, 0, 0, 0, 0, 0, 1, 0, 0,\n",
       "        1, 0, 0, 0, 0, 0, 0, 1, 0, 0, 0, 0, 0, 0, 0, 0, 0, 0, 0, 1, 0, 1,\n",
       "        0, 0, 0, 0, 0, 0, 1, 0, 0, 0, 0, 0, 0, 0, 0, 0, 1, 0, 0, 0, 0, 0,\n",
       "        0, 0, 0, 0, 0, 0, 0, 0, 0, 0, 0, 0, 1, 0, 0, 0, 0, 0, 0, 0, 0, 0,\n",
       "        0, 0, 0, 0, 0, 0, 0, 0, 1, 0, 0, 0, 0, 0, 0, 0, 0, 0, 0, 1, 0, 0,\n",
       "        0, 0, 0, 0, 1, 0, 0, 0, 0, 0, 0, 0, 0, 0, 1, 0, 0, 0, 0, 0, 0, 0,\n",
       "        1, 0, 0, 0, 0, 0, 0, 0, 0, 1, 0, 0, 0, 0, 0, 0]), (500,))"
      ]
     },
     "execution_count": 331,
     "metadata": {},
     "output_type": "execute_result"
    }
   ],
   "source": [
    "# Finding zero crossings (where there may not be actual 0 values, just a change from positive to negative):\n",
    "zero_crossings = np.hstack((abs(np.diff(np.sign(sampleframes[:,window_num])))>1, 0))\n",
    "zero_crossings,zero_crossings.shape"
   ]
  },
  {
   "cell_type": "code",
   "execution_count": 350,
   "metadata": {},
   "outputs": [
    {
     "data": {
      "text/plain": [
       "(array([0, 0, 0, 0, 0, 0, 0, 0, 0, 0, 0, 0, 0, 0, 0, 0, 0, 0, 0, 0, 0, 0,\n",
       "        0, 0, 0, 0, 0, 0, 0, 0, 0, 0, 0, 0, 0, 0, 0, 0, 0, 0, 0, 0, 0, 0,\n",
       "        0, 0, 0, 0, 0, 0, 0, 0, 0, 0, 0, 0, 0, 0, 0, 0, 0, 0, 0, 0, 0, 0,\n",
       "        1]), 67)"
      ]
     },
     "execution_count": 350,
     "metadata": {},
     "output_type": "execute_result"
    }
   ],
   "source": [
    "zero_crossings[:spike_position+1],zero_crossings[:spike_position+1].size"
   ]
  },
  {
   "cell_type": "code",
   "execution_count": 351,
   "metadata": {},
   "outputs": [
    {
     "data": {
      "text/plain": [
       "(array([66]),)"
      ]
     },
     "execution_count": 351,
     "metadata": {},
     "output_type": "execute_result"
    }
   ],
   "source": [
    "np.nonzero(zero_crossings[:spike_position+1])"
   ]
  },
  {
   "cell_type": "code",
   "execution_count": 352,
   "metadata": {},
   "outputs": [
    {
     "data": {
      "text/plain": [
       "False"
      ]
     },
     "execution_count": 352,
     "metadata": {},
     "output_type": "execute_result"
    }
   ],
   "source": [
    "not np.nonzero(zero_crossings[:spike_position+1])[0].size"
   ]
  },
  {
   "cell_type": "code",
   "execution_count": 353,
   "metadata": {},
   "outputs": [
    {
     "data": {
      "text/plain": [
       "66"
      ]
     },
     "execution_count": 353,
     "metadata": {},
     "output_type": "execute_result"
    }
   ],
   "source": [
    "nonzero = np.nonzero(zero_crossings[:spike_position+1])[0][-1]\n",
    "nonzero"
   ]
  },
  {
   "cell_type": "code",
   "execution_count": 354,
   "metadata": {},
   "outputs": [
    {
     "data": {
      "text/plain": [
       "66"
      ]
     },
     "execution_count": 354,
     "metadata": {},
     "output_type": "execute_result"
    }
   ],
   "source": [
    "np.max((0,nonzero))"
   ]
  },
  {
   "cell_type": "code",
   "execution_count": 355,
   "metadata": {},
   "outputs": [
    {
     "data": {
      "text/plain": [
       "66"
      ]
     },
     "execution_count": 355,
     "metadata": {},
     "output_type": "execute_result"
    }
   ],
   "source": [
    "# Find the start of the spike, finding the last zero crossing before\n",
    "# spike position. If that is empty, take the start of the window:\n",
    "if (not np.nonzero(zero_crossings[:spike_position+1])[0].size):\n",
    "    spike_start = 0\n",
    "else:\n",
    "    nonzero = np.nonzero(zero_crossings[:spike_position+1])[0][-1] #[-1] = MATLAB \"last\"\n",
    "    spike_start = np.max((0,nonzero))\n",
    "    \n",
    "spike_start"
   ]
  },
  {
   "cell_type": "code",
   "execution_count": 356,
   "metadata": {},
   "outputs": [
    {
     "data": {
      "text/plain": [
       "array([0, 0, 0, 0, 0, 0, 0, 0, 0, 0, 0, 0, 0, 0, 0, 0, 0, 0, 0, 0, 0, 0,\n",
       "       0, 0, 0, 0, 0, 0, 0, 0, 0, 0, 0, 0, 0, 0, 0, 0, 0, 0, 0, 0, 0, 0,\n",
       "       0, 0, 0, 0, 0, 0, 0, 0, 0, 0, 0, 0, 0, 0, 0, 0, 0, 0, 0, 0, 0, 0])"
      ]
     },
     "execution_count": 356,
     "metadata": {},
     "output_type": "execute_result"
    }
   ],
   "source": [
    "zero_crossings[:spike_position]"
   ]
  },
  {
   "cell_type": "code",
   "execution_count": 360,
   "metadata": {},
   "outputs": [],
   "source": [
    "# Find the end of the spike, finding the first zero crossing after\n",
    "# spike position. If that is empty, take the end of the window:\n",
    "zero_crossings[:spike_position+1] = 0"
   ]
  },
  {
   "cell_type": "code",
   "execution_count": 362,
   "metadata": {},
   "outputs": [
    {
     "data": {
      "text/plain": [
       "array([0, 0, 0, 0, 0, 0, 0, 0, 0, 0, 0, 0, 0, 0, 0, 0, 0, 0, 0, 0, 0, 0,\n",
       "       0, 0, 0, 0, 0, 0, 0, 0, 0, 0, 0, 0, 0, 0, 0, 0, 0, 0, 0, 0, 0, 0,\n",
       "       0, 0, 0, 0, 0, 0, 0, 0, 0, 0, 0, 0, 0, 0, 0, 0, 0, 0, 0, 0, 0, 0,\n",
       "       0])"
      ]
     },
     "execution_count": 362,
     "metadata": {},
     "output_type": "execute_result"
    }
   ],
   "source": [
    "zero_crossings[:spike_position+1]"
   ]
  },
  {
   "cell_type": "code",
   "execution_count": 363,
   "metadata": {},
   "outputs": [
    {
     "data": {
      "text/plain": [
       "(array([ 73,  80,  85,  91, 100, 105, 109, 117, 125, 131, 136, 139, 145,\n",
       "        159, 168, 181, 185, 188, 193, 197, 202, 209, 213, 217, 218, 222,\n",
       "        229, 233, 238, 246, 251, 259, 264, 269, 271, 272, 278, 281, 283,\n",
       "        285, 289, 296, 297, 302, 310, 315, 319, 323, 326, 328, 331, 337,\n",
       "        340, 342, 352, 358, 365, 371, 374, 381, 393, 395, 402, 412, 430,\n",
       "        448, 459, 466, 476, 484, 493]),)"
      ]
     },
     "execution_count": 363,
     "metadata": {},
     "output_type": "execute_result"
    }
   ],
   "source": [
    "np.nonzero(zero_crossings)"
   ]
  },
  {
   "cell_type": "code",
   "execution_count": 364,
   "metadata": {},
   "outputs": [
    {
     "data": {
      "text/plain": [
       "False"
      ]
     },
     "execution_count": 364,
     "metadata": {},
     "output_type": "execute_result"
    }
   ],
   "source": [
    "not np.nonzero(zero_crossings)[0].size"
   ]
  },
  {
   "cell_type": "code",
   "execution_count": 365,
   "metadata": {},
   "outputs": [
    {
     "data": {
      "text/plain": [
       "73"
      ]
     },
     "execution_count": 365,
     "metadata": {},
     "output_type": "execute_result"
    }
   ],
   "source": [
    "nonzero = np.nonzero(zero_crossings)[0][0] #[0] = MATLAB \"first\"\n",
    "nonzero"
   ]
  },
  {
   "cell_type": "code",
   "execution_count": 366,
   "metadata": {},
   "outputs": [
    {
     "data": {
      "text/plain": [
       "73"
      ]
     },
     "execution_count": 366,
     "metadata": {},
     "output_type": "execute_result"
    }
   ],
   "source": [
    "min(nonzero, windowsize)"
   ]
  },
  {
   "cell_type": "code",
   "execution_count": 368,
   "metadata": {},
   "outputs": [
    {
     "data": {
      "text/plain": [
       "73"
      ]
     },
     "execution_count": 368,
     "metadata": {},
     "output_type": "execute_result"
    }
   ],
   "source": [
    "if (not np.nonzero(zero_crossings)[0].size):\n",
    "    spike_end = 0\n",
    "else:\n",
    "    nonzero = np.nonzero(zero_crossings)[0][0] #[0] = MATLAB \"first\"\n",
    "    spike_end = min(nonzero, windowsize)\n",
    "spike_end"
   ]
  },
  {
   "cell_type": "code",
   "execution_count": 369,
   "metadata": {},
   "outputs": [
    {
     "data": {
      "text/plain": [
       "array([-9.54764789e-01,  1.00000000e-04,  1.00000000e-04,  1.00000000e-04,\n",
       "        1.00000000e-04,  1.00000000e-04,  1.00000000e-04])"
      ]
     },
     "execution_count": 369,
     "metadata": {},
     "output_type": "execute_result"
    }
   ],
   "source": [
    "sampleframes[spike_start:spike_end,window_num]"
   ]
  },
  {
   "cell_type": "code",
   "execution_count": 370,
   "metadata": {},
   "outputs": [],
   "source": [
    "# Set to Zero\n",
    "sampleframes[spike_start:spike_end,window_num] = 1e-6"
   ]
  },
  {
   "cell_type": "code",
   "execution_count": 371,
   "metadata": {},
   "outputs": [
    {
     "data": {
      "text/plain": [
       "array([1.e-06, 1.e-06, 1.e-06, 1.e-06, 1.e-06, 1.e-06, 1.e-06])"
      ]
     },
     "execution_count": 371,
     "metadata": {},
     "output_type": "execute_result"
    }
   ],
   "source": [
    "sampleframes[spike_start:spike_end,window_num]"
   ]
  },
  {
   "cell_type": "code",
   "execution_count": 372,
   "metadata": {},
   "outputs": [],
   "source": [
    "# Recaclulate MAAs\n",
    "MAAs = get_MAAs(sampleframes)"
   ]
  },
  {
   "cell_type": "code",
   "execution_count": 373,
   "metadata": {},
   "outputs": [
    {
     "data": {
      "text/plain": [
       "(array([0.05455746, 0.73185016, 0.06780181, 0.81726091, 0.09713932,\n",
       "        0.74516327, 0.08630908, 0.69954506, 0.12447804, 0.77261722,\n",
       "        0.22271207, 0.02881977, 0.74279339, 0.0216182 , 0.81761337,\n",
       "        0.09786286, 0.81670202, 0.1087732 , 0.80511996, 0.0930815 ,\n",
       "        0.81022931, 0.09154014, 0.79190463, 0.22212671, 0.03319415,\n",
       "        0.79532517, 0.02610673, 0.80808411, 0.07082504, 0.77431265,\n",
       "        0.11526874, 0.66513013, 0.0800697 , 0.84874737, 0.1013283 ,\n",
       "        0.83440757, 0.1157187 , 0.83650264, 0.68542493, 0.02656417,\n",
       "        0.75045641, 0.04563729, 0.79132721, 0.08801378, 0.77129449,\n",
       "        0.06999517, 0.84241321, 0.16626033, 0.93131555, 0.09024964,\n",
       "        0.90588139, 0.10629364, 0.03826258, 0.9304115 , 0.03236624,\n",
       "        0.78606596, 0.10810866, 0.84546212, 0.09260469, 0.72531429,\n",
       "        0.09129389, 0.85005561, 0.11465431, 0.82548012, 0.08355567,\n",
       "        0.87218445, 0.28841796, 0.9479661 , 0.05069621, 0.72143891,\n",
       "        0.096065  ]), (71,), 0.668136204204411)"
      ]
     },
     "execution_count": 373,
     "metadata": {},
     "output_type": "execute_result"
    }
   ],
   "source": [
    "MAAs, MAAs.shape, median(MAAs)*3"
   ]
  },
  {
   "cell_type": "code",
   "execution_count": 379,
   "metadata": {},
   "outputs": [
    {
     "data": {
      "text/plain": [
       "(0.9479660990935009, 67)"
      ]
     },
     "execution_count": 379,
     "metadata": {},
     "output_type": "execute_result"
    }
   ],
   "source": [
    "old_val = val\n",
    "old_window_num = window_num\n",
    "old_val,old_window_num"
   ]
  },
  {
   "cell_type": "code",
   "execution_count": 380,
   "metadata": {},
   "outputs": [
    {
     "data": {
      "text/plain": [
       "(0.9479660990935009, 67)"
      ]
     },
     "execution_count": 380,
     "metadata": {},
     "output_type": "execute_result"
    }
   ],
   "source": [
    "# Find the window with the max MAA:\n",
    "val = max(MAAs)\n",
    "# window_num = np.unravel_index(np.argmax(MAAs, axis=None), MAAs.shape)\n",
    "# window_num = window_num[0]\n",
    "window_num = np.argmax(MAAs)\n",
    "val, window_num, "
   ]
  },
  {
   "cell_type": "code",
   "execution_count": 381,
   "metadata": {},
   "outputs": [
    {
     "data": {
      "text/plain": [
       "array([ 1,  3,  5,  7,  9, 12, 14, 16, 18, 20, 22, 25, 27, 29, 33, 35, 37,\n",
       "       38, 40, 42, 44, 46, 48, 50, 53, 55, 57, 59, 61, 63, 65, 67, 69])"
      ]
     },
     "execution_count": 381,
     "metadata": {},
     "output_type": "execute_result"
    }
   ],
   "source": [
    "np.nonzero(MAAs>median(MAAs)*3)[0]"
   ]
  },
  {
   "cell_type": "code",
   "execution_count": 382,
   "metadata": {},
   "outputs": [],
   "source": [
    "emptyarray = np.nonzero(MAAs>median(MAAs)*3)[0]"
   ]
  },
  {
   "cell_type": "code",
   "execution_count": 383,
   "metadata": {},
   "outputs": [
    {
     "data": {
      "text/plain": [
       "True"
      ]
     },
     "execution_count": 383,
     "metadata": {},
     "output_type": "execute_result"
    }
   ],
   "source": [
    "not emptyarray.size==0"
   ]
  },
  {
   "cell_type": "markdown",
   "metadata": {},
   "source": [
    "### O loop amaldiçoado"
   ]
  },
  {
   "cell_type": "code",
   "execution_count": 385,
   "metadata": {},
   "outputs": [],
   "source": [
    "while(not emptyarray.size==0):\n",
    "\n",
    "    # Find the window with the max MAA:\n",
    "    val = max(MAAs)\n",
    "    window_num = np.argmax(MAAs)\n",
    "\n",
    "    if(window_num.size>1):\n",
    "        window_num = window_num[0]\n",
    "\n",
    "    # Find the postion of the spike within that window:\n",
    "    val = max(abs(sampleframes[:,window_num]))\n",
    "    spike_position = np.argmax(abs(sampleframes[:,window_num]))\n",
    "\n",
    "    if(spike_position.size>1):\n",
    "        spike_position = spike_position[0]\n",
    "\n",
    "    # Finding zero crossings (where there may not be actual 0 values, just a change from positive to negative):\n",
    "    zero_crossings = np.hstack((abs(np.diff(np.sign(sampleframes[:,window_num])))>1, 0))\n",
    "\n",
    "    # Find the start of the spike, finding the last zero crossing before\n",
    "    # spike position. If that is empty, take the start of the window:\n",
    "    if (not np.nonzero(zero_crossings[:spike_position+1])[0].size):\n",
    "        spike_start = 0\n",
    "    else:\n",
    "        nonzero = np.nonzero(zero_crossings[:spike_position+1])[0][-1] #[-1] = MATLAB \"last\"\n",
    "        spike_start = np.max((0,nonzero))\n",
    "\n",
    "    # Find the end of the spike, finding the first zero crossing after\n",
    "    # spike position. If that is empty, take the end of the window:\n",
    "    zero_crossings[:spike_position+1] = 0\n",
    "    if (not np.nonzero(zero_crossings)[0].size):\n",
    "        spike_end = windowsize\n",
    "    else:\n",
    "        nonzero = np.nonzero(zero_crossings)[0][0] #[0] = MATLAB \"first\"\n",
    "        spike_end = np.min((nonzero, windowsize))\n",
    "\n",
    "    # Set to Zero\n",
    "    sampleframes[spike_start:spike_end,window_num] = 0.0001\n",
    "\n",
    "    # Recaclulate MAAs\n",
    "    MAAs = get_MAAs(sampleframes)\n",
    "\n",
    "    emptyarray = np.nonzero(MAAs>median(MAAs)*3)[0]"
   ]
  },
  {
   "cell_type": "code",
   "execution_count": 296,
   "metadata": {},
   "outputs": [
    {
     "data": {
      "text/plain": [
       "(66, 500)"
      ]
     },
     "execution_count": 296,
     "metadata": {},
     "output_type": "execute_result"
    }
   ],
   "source": [
    "nonzero,windowsize"
   ]
  },
  {
   "cell_type": "code",
   "execution_count": 300,
   "metadata": {},
   "outputs": [
    {
     "data": {
      "text/plain": [
       "66"
      ]
     },
     "execution_count": 300,
     "metadata": {},
     "output_type": "execute_result"
    }
   ],
   "source": [
    "np.min((nonzero, windowsize))"
   ]
  },
  {
   "cell_type": "code",
   "execution_count": null,
   "metadata": {},
   "outputs": [],
   "source": [
    "despiked_signal = sampleframes.reshape(sampleframes.size,order='F')\n",
    "\n",
    "# Add the trailing samples back to the signal:\n",
    "despiked_signal = np.concatenate((despiked_signal, original_signal[despiked_signal.size:]))\n",
    "\n",
    "# return despiked_signal"
   ]
  },
  {
   "cell_type": "code",
   "execution_count": 3,
   "metadata": {},
   "outputs": [],
   "source": [
    "# Get PCG Features:\n",
    "\n",
    "PCG_Features, featuresFs = getSpringerPCGFeatures(audio_data, Fs)"
   ]
  },
  {
   "cell_type": "code",
   "execution_count": 4,
   "metadata": {},
   "outputs": [],
   "source": [
    "## Get PCG heart rate\n",
    "\n",
    "heartRate, systolicTimeInterval = getHeartRateSchmidt(audio_data, Fs)"
   ]
  },
  {
   "cell_type": "code",
   "execution_count": 5,
   "metadata": {},
   "outputs": [
    {
     "data": {
      "text/plain": [
       "array([[-0.25847775, -0.57497657, -0.34072   , -0.60936582],\n",
       "       [ 0.15841158, -0.46887987, -0.29232661, -0.45480159],\n",
       "       [-0.77324363, -0.53771186, -0.32784152, -0.10409826],\n",
       "       [-0.60661867, -0.55654393, -0.28750247, -0.61659218]])"
      ]
     },
     "execution_count": 5,
     "metadata": {},
     "output_type": "execute_result"
    }
   ],
   "source": [
    "PCG_Features[:4,:]"
   ]
  },
  {
   "cell_type": "code",
   "execution_count": 6,
   "metadata": {},
   "outputs": [
    {
     "data": {
      "text/plain": [
       "(51.45797598627787, 0.389)"
      ]
     },
     "execution_count": 6,
     "metadata": {},
     "output_type": "execute_result"
    }
   ],
   "source": [
    "heartRate, systolicTimeInterval"
   ]
  },
  {
   "cell_type": "code",
   "execution_count": 7,
   "metadata": {},
   "outputs": [],
   "source": [
    "# _, _, qt = viterbiDecodePCG_Springer(PCG_Features, pi_vector, B_matrix, total_observation_distribution, heartRate, systolicTimeInterval, featuresFs)\n",
    "\n",
    "import matplotlib.pyplot as plt\n",
    "from scipy.stats import multivariate_normal\n",
    "from get_duration_distributions import *\n",
    "\n",
    "def sigma(a):\n",
    "    return 1/(1 + np.exp(-a))\n",
    "\n",
    "def ind2sub(array_shape, ind):\n",
    "    rows = (ind.astype('int') / array_shape[1])\n",
    "    cols = (ind.astype('int') % array_shape[1]) # or numpy.mod(ind.astype('int'), array_shape[1])\n",
    "    return (rows, cols)\n"
   ]
  },
  {
   "cell_type": "code",
   "execution_count": 8,
   "metadata": {},
   "outputs": [
    {
     "data": {
      "text/plain": [
       "58"
      ]
     },
     "execution_count": 8,
     "metadata": {},
     "output_type": "execute_result"
    }
   ],
   "source": [
    "observation_sequence, pi_vector, b_matrix, total_obs_distribution, heartrate, systolic_time, Fs = PCG_Features, pi_vector, B_matrix, total_obs_distribution, heartRate, systolicTimeInterval, featuresFs\n",
    "\n",
    "## Preliminary\n",
    "springer_options = default_Springer_HSMM_options(SpringerOptions)\n",
    "\n",
    "T = len(observation_sequence)\n",
    "N = 4 # Number of states\n",
    "\n",
    "# Setting the maximum duration of a single state. This is set to an entire\n",
    "# heart cycle:\n",
    "max_duration_D = int(1*60/heartrate*Fs)\n",
    "max_duration_D"
   ]
  },
  {
   "cell_type": "code",
   "execution_count": 9,
   "metadata": {},
   "outputs": [],
   "source": [
    "# Initialising the variables that are needed to find the optimal state path along\n",
    "# the observation sequence.\n",
    "# delta_t(j), as defined on page 264 of Rabiner, is the best score (highest\n",
    "# probability) along a single path, at time t, which accounts for the first\n",
    "# t observations and ends in State s_j. In this case, the length of the\n",
    "# matrix is extended by max_duration_D samples, in order to allow the use\n",
    "# of the extended Viterbi algortithm:\n",
    "delta = np.ones((T + max_duration_D-1, N))*(-np.inf)\n",
    "\n",
    "# The argument that maximises the transition between states (this is\n",
    "# basically the previous state that had the highest transition probability\n",
    "# to the current state) is tracked using the psi variable.\n",
    "psi = np.zeros((T + max_duration_D-1, N)).astype(int)\n",
    "\n",
    "# An additional variable, that is not included on page 264 or Rabiner, is\n",
    "# the state duration that maximises the delta variable. This is essential\n",
    "# for the duration dependant HMM.\n",
    "psi_duration = np.zeros((T + max_duration_D-1, N)).astype(int)\n",
    "\n",
    "## Setting up observation probs\n",
    "observation_probs = np.zeros((T,N))"
   ]
  },
  {
   "cell_type": "code",
   "execution_count": 10,
   "metadata": {},
   "outputs": [],
   "source": [
    "for n in range(1):\n",
    "\n",
    "    # MLR gives P(state|obs)\n",
    "    # Therefore, need Bayes to get P(o|state)\n",
    "    # P(o|state) = P(state|obs) * P(obs) / P(states)\n",
    "    # Where p(obs) is derived from a MVN distribution from all\n",
    "    # observations, and p(states) is taken from the pi_vector:\n",
    "    w = b_matrix[0][n].ravel()\n",
    "    X = np.hstack((np.ones(len(observation_sequence)).reshape(-1,1),observation_sequence))\n",
    "    pihat = sigma(w @ X.T)\n"
   ]
  },
  {
   "cell_type": "code",
   "execution_count": 11,
   "metadata": {},
   "outputs": [
    {
     "data": {
      "text/plain": [
       "(1700,)"
      ]
     },
     "execution_count": 11,
     "metadata": {},
     "output_type": "execute_result"
    }
   ],
   "source": [
    "pihat.shape"
   ]
  },
  {
   "cell_type": "code",
   "execution_count": 12,
   "metadata": {},
   "outputs": [
    {
     "data": {
      "text/plain": [
       "array([[0.33555502],\n",
       "       [0.5394515 ],\n",
       "       [0.13848172],\n",
       "       [0.18146626],\n",
       "       [0.16642614]])"
      ]
     },
     "execution_count": 12,
     "metadata": {},
     "output_type": "execute_result"
    }
   ],
   "source": [
    "pihat[:5].reshape(-1,1)"
   ]
  },
  {
   "cell_type": "code",
   "execution_count": 13,
   "metadata": {},
   "outputs": [],
   "source": [
    "for n in range(N):\n",
    "\n",
    "    # MLR gives P(state|obs)\n",
    "    # Therefore, need Bayes to get P(o|state)\n",
    "    # P(o|state) = P(state|obs) * P(obs) / P(states)\n",
    "    # Where p(obs) is derived from a MVN distribution from all\n",
    "    # observations, and p(states) is taken from the pi_vector:\n",
    "    w = b_matrix[0][n].ravel()\n",
    "    X = np.hstack((np.ones(len(observation_sequence)).reshape(-1,1),observation_sequence))\n",
    "    pihat = sigma(w @ X.T)\n",
    "\n",
    "    for t in range(T):\n",
    "\n",
    "        x = observation_sequence[t,:]\n",
    "        mu = total_obs_distribution[0]\n",
    "        cov = total_obs_distribution[1] # = sigma (MATLAB)\n",
    "        mvn = multivariate_normal(mu,cov) #create a multivariate Gaussian object with specified mean and covariance matrix\n",
    "        Po_correction = mvn.pdf(x) #evaluate the probability density at x\n",
    "        observation_probs[t,n] = (pihat[t]*Po_correction)/pi_vector[0]"
   ]
  },
  {
   "cell_type": "code",
   "execution_count": 14,
   "metadata": {},
   "outputs": [
    {
     "data": {
      "text/plain": [
       "(1700, 4)"
      ]
     },
     "execution_count": 14,
     "metadata": {},
     "output_type": "execute_result"
    }
   ],
   "source": [
    "observation_probs.shape"
   ]
  },
  {
   "cell_type": "code",
   "execution_count": 15,
   "metadata": {},
   "outputs": [
    {
     "data": {
      "text/plain": [
       "array([[1.50559580e-01, 2.60667154e-01, 1.69191002e-01, 2.04472416e-01],\n",
       "       [1.39834508e-01, 1.17681406e-01, 1.10757609e-01, 4.04782914e-02],\n",
       "       [5.88074845e-02, 2.86233238e-01, 1.56197467e-01, 3.49877802e-01],\n",
       "       [8.99057339e-02, 3.34505602e-01, 1.70937874e-01, 3.81023941e-01],\n",
       "       [5.89872165e-02, 2.27850120e-01, 1.36387858e-01, 2.69029223e-01],\n",
       "       [7.15089943e-02, 1.33101320e-01, 8.02054843e-02, 1.14450279e-01],\n",
       "       [4.44027242e-02, 8.21119615e-03, 4.13252391e-02, 1.06086768e-03],\n",
       "       [6.12838357e-04, 1.26304394e-05, 5.50259867e-04, 8.29586379e-08],\n",
       "       [1.19612690e-07, 5.46737234e-10, 1.11252055e-07, 2.43497872e-13],\n",
       "       [8.82985644e-15, 7.85593500e-17, 8.23790614e-15, 8.82969265e-20]])"
      ]
     },
     "execution_count": 15,
     "metadata": {},
     "output_type": "execute_result"
    }
   ],
   "source": [
    "observation_probs[:10,:]"
   ]
  },
  {
   "cell_type": "code",
   "execution_count": 16,
   "metadata": {},
   "outputs": [
    {
     "data": {
      "text/plain": [
       "([[6, 1], [13, 1.5625], [5, 1], [34.15, 7.238790250000001]],\n",
       " 9,\n",
       " 3,\n",
       " 8,\n",
       " 2,\n",
       " 19.75,\n",
       " 6.25,\n",
       " 42.2215,\n",
       " 26.0785)"
      ]
     },
     "execution_count": 16,
     "metadata": {},
     "output_type": "execute_result"
    }
   ],
   "source": [
    "## Setting up state duration probabilities, using Gaussian distributions:\n",
    "d_distributions, max_S1, min_S1, max_S2, min_S2, max_systole, min_systole, max_diastole, min_diastole = get_duration_distributions(heartrate, systolic_time)\n",
    "\n",
    "duration_probs = np.zeros((N,3*Fs))\n",
    "duration_sum = np.zeros((N))\n",
    "d_distributions, max_S1, min_S1, max_S2, min_S2, max_systole, min_systole, max_diastole, min_diastole"
   ]
  },
  {
   "cell_type": "code",
   "execution_count": 17,
   "metadata": {},
   "outputs": [],
   "source": [
    "for state_j in range(N):\n",
    "    for d in range(max_duration_D):\n",
    "\n",
    "        if(state_j == 0):\n",
    "            mvn = multivariate_normal(d_distributions[state_j][0], d_distributions[state_j][1])\n",
    "            duration_probs[state_j,d] = mvn.pdf(d)\n",
    "\n",
    "            if(d < min_S1 or d > max_S1):\n",
    "                duration_probs[state_j,d] = np.finfo(float).tiny\n",
    "\n",
    "        elif(state_j == 2):\n",
    "            mvn = multivariate_normal(d_distributions[state_j][0], d_distributions[state_j][1])\n",
    "            duration_probs[state_j,d] = mvn.pdf(d)\n",
    "\n",
    "            if(d < min_S2 or d > max_S2):\n",
    "                duration_probs[state_j,d] = np.finfo(float).tiny\n",
    "\n",
    "        elif(state_j == 1):\n",
    "            mvn = multivariate_normal(d_distributions[state_j][0], d_distributions[state_j][1])\n",
    "            duration_probs[state_j,d] = mvn.pdf(d)\n",
    "\n",
    "            if(d < min_systole or d > max_systole):\n",
    "                duration_probs[state_j,d] = np.finfo(float).tiny\n",
    "\n",
    "        elif(state_j == 3):\n",
    "            mvn = multivariate_normal(d_distributions[state_j][0], d_distributions[state_j][1])\n",
    "            duration_probs[state_j,d] = mvn.pdf(d)\n",
    "\n",
    "            if(d < min_diastole or d > max_diastole):\n",
    "                duration_probs[state_j,d] = np.finfo(float).tiny\n",
    "\n",
    "    duration_sum[state_j] = sum(duration_probs[state_j,:])"
   ]
  },
  {
   "cell_type": "code",
   "execution_count": 18,
   "metadata": {},
   "outputs": [
    {
     "data": {
      "text/plain": [
       "array([[2.22507386e-308, 2.22507386e-308, 2.22507386e-308],\n",
       "       [2.22507386e-308, 2.22507386e-308, 2.22507386e-308],\n",
       "       [2.22507386e-308, 2.22507386e-308, 4.43184841e-003],\n",
       "       [2.22507386e-308, 2.22507386e-308, 2.22507386e-308]])"
      ]
     },
     "execution_count": 18,
     "metadata": {},
     "output_type": "execute_result"
    }
   ],
   "source": [
    "duration_probs[:,:3]"
   ]
  },
  {
   "cell_type": "code",
   "execution_count": 19,
   "metadata": {},
   "outputs": [
    {
     "data": {
      "text/plain": [
       "(4, 150)"
      ]
     },
     "execution_count": 19,
     "metadata": {},
     "output_type": "execute_result"
    }
   ],
   "source": [
    "duration_probs.shape"
   ]
  },
  {
   "cell_type": "code",
   "execution_count": 20,
   "metadata": {},
   "outputs": [],
   "source": [
    "if(len(duration_probs)>3*Fs):\n",
    "    duration_probs = duration_probs[:,:3*Fs]\n",
    "\n",
    "## Perform the actual Viterbi Recursion:\n",
    "qt = np.zeros(delta.size).astype(int)"
   ]
  },
  {
   "cell_type": "code",
   "execution_count": 21,
   "metadata": {},
   "outputs": [],
   "source": [
    "## Initialisation Step\n",
    "\n",
    "#Equation 32a and 69a, but leave out the probability of being in\n",
    "#state i for only 1 sample, as the state could have started before time t = 0.\n",
    "\n",
    "delta[0,:] = np.log(pi_vector) + np.log(observation_probs[0,:]) #first value is the probability of intially being in each state * probability of observation 1 coming from each state"
   ]
  },
  {
   "cell_type": "code",
   "execution_count": 22,
   "metadata": {},
   "outputs": [
    {
     "data": {
      "text/plain": [
       "(1757, 4)"
      ]
     },
     "execution_count": 22,
     "metadata": {},
     "output_type": "execute_result"
    }
   ],
   "source": [
    "delta.shape"
   ]
  },
  {
   "cell_type": "code",
   "execution_count": 23,
   "metadata": {},
   "outputs": [
    {
     "data": {
      "text/plain": [
       "array([[-3.27969075, -2.73080532, -3.16302137, -2.97361656],\n",
       "       [       -inf,        -inf,        -inf,        -inf],\n",
       "       [       -inf,        -inf,        -inf,        -inf],\n",
       "       ...,\n",
       "       [       -inf,        -inf,        -inf,        -inf],\n",
       "       [       -inf,        -inf,        -inf,        -inf],\n",
       "       [       -inf,        -inf,        -inf,        -inf]])"
      ]
     },
     "execution_count": 23,
     "metadata": {},
     "output_type": "execute_result"
    }
   ],
   "source": [
    "delta"
   ]
  },
  {
   "cell_type": "code",
   "execution_count": 24,
   "metadata": {},
   "outputs": [
    {
     "data": {
      "text/plain": [
       "array([[-1, -1, -1, -1],\n",
       "       [ 0,  0,  0,  0]])"
      ]
     },
     "execution_count": 24,
     "metadata": {},
     "output_type": "execute_result"
    }
   ],
   "source": [
    "#Equation 32b\n",
    "psi[0,:] = -1\n",
    "psi[:2,:]"
   ]
  },
  {
   "cell_type": "code",
   "execution_count": 25,
   "metadata": {},
   "outputs": [],
   "source": [
    "# The state duration probabilities are now used.\n",
    "# Change the a_matrix to have zeros along the diagonal, therefore, only\n",
    "# relying on the duration probabilities and observation probabilities to\n",
    "# influence change in states:\n",
    "# This would only be valid in sequences where the transition between states\n",
    "# follows a distinct order.\n",
    "a_matrix = np.array([[0, 1, 0, 0], [0, 0, 1, 0], [0, 0, 0, 1], [1, 0, 0, 0]])"
   ]
  },
  {
   "cell_type": "markdown",
   "metadata": {},
   "source": [
    "### core Viterbi algorithm está DEMORADO"
   ]
  },
  {
   "cell_type": "code",
   "execution_count": 119,
   "metadata": {},
   "outputs": [
    {
     "data": {
      "text/plain": [
       "(0, 2)"
      ]
     },
     "execution_count": 119,
     "metadata": {},
     "output_type": "execute_result"
    }
   ],
   "source": [
    "t = 1\n",
    "j = 0\n",
    "d = 0\n",
    "\n",
    "start_t = t - d - 1\n",
    "if(start_t<0):\n",
    "    start_t = 0\n",
    "\n",
    "if(start_t > T-2):\n",
    "    start_t = T-2\n",
    "\n",
    "end_t = t+1\n",
    "if(t>T):\n",
    "    end_t = T\n",
    "    \n",
    "start_t, end_t "
   ]
  },
  {
   "cell_type": "code",
   "execution_count": 120,
   "metadata": {},
   "outputs": [
    {
     "data": {
      "text/plain": [
       "(-2.9736165578398843, 3)"
      ]
     },
     "execution_count": 120,
     "metadata": {},
     "output_type": "execute_result"
    }
   ],
   "source": [
    "epsilon = 1e-256\n",
    "max_delta =    np.max(delta[start_t,:] + np.log(a_matrix[:,j]+epsilon))\n",
    "max_index = np.argmax(delta[start_t,:] + np.log(a_matrix[:,j]+epsilon))\n",
    "max_delta, max_index"
   ]
  },
  {
   "cell_type": "code",
   "execution_count": 121,
   "metadata": {},
   "outputs": [
    {
     "data": {
      "text/plain": [
       "0.021053424824932974"
      ]
     },
     "execution_count": 121,
     "metadata": {},
     "output_type": "execute_result"
    }
   ],
   "source": [
    "probs = np.prod(observation_probs[start_t:end_t,j])\n",
    "probs"
   ]
  },
  {
   "cell_type": "code",
   "execution_count": 122,
   "metadata": {},
   "outputs": [
    {
     "data": {
      "text/plain": [
       "-3.860692032566122"
      ]
     },
     "execution_count": 122,
     "metadata": {},
     "output_type": "execute_result"
    }
   ],
   "source": [
    "if(probs == 0):\n",
    "    probs = np.finfo(float).tiny\n",
    "emission_probs = np.log(probs)\n",
    "emission_probs"
   ]
  },
  {
   "cell_type": "code",
   "execution_count": 123,
   "metadata": {},
   "outputs": [
    {
     "data": {
      "text/plain": [
       "-3.860692032566122"
      ]
     },
     "execution_count": 123,
     "metadata": {},
     "output_type": "execute_result"
    }
   ],
   "source": [
    "if(emission_probs == 0 or np.isnan(emission_probs)):\n",
    "    emission_probs = np.finfo(float).tiny\n",
    "emission_probs"
   ]
  },
  {
   "cell_type": "code",
   "execution_count": 124,
   "metadata": {},
   "outputs": [
    {
     "data": {
      "text/plain": [
       "-715.2304564453302"
      ]
     },
     "execution_count": 124,
     "metadata": {},
     "output_type": "execute_result"
    }
   ],
   "source": [
    "delta_temp = max_delta + emission_probs + np.log((duration_probs[j,d]/duration_sum[j]))\n",
    "delta_temp"
   ]
  },
  {
   "cell_type": "code",
   "execution_count": 127,
   "metadata": {},
   "outputs": [
    {
     "data": {
      "text/plain": [
       "0"
      ]
     },
     "execution_count": 127,
     "metadata": {},
     "output_type": "execute_result"
    }
   ],
   "source": [
    "psi[t,j]"
   ]
  },
  {
   "cell_type": "code",
   "execution_count": 85,
   "metadata": {},
   "outputs": [
    {
     "data": {
      "text/plain": [
       "(2.2250738585072014e-308, 0)"
      ]
     },
     "execution_count": 85,
     "metadata": {},
     "output_type": "execute_result"
    }
   ],
   "source": [
    "if(delta_temp > delta[t,j]):\n",
    "    delta[t,j] = delta_temp\n",
    "    psi[t,j] = max_index\n",
    "    psi_duration[t,j] = d"
   ]
  },
  {
   "cell_type": "code",
   "execution_count": 26,
   "metadata": {},
   "outputs": [],
   "source": [
    "epsilon = 1e-256\n",
    "\n",
    "## Run the core Viterbi algorithm\n",
    "\n",
    "\n",
    "## Recursion\n",
    "\n",
    "    ## The Extended Viterbi algorithm:\n",
    "\n",
    "    # Equations 33a and 33b and 69a, b, c etc:\n",
    "    # again, ommitting the p(d), as state could have started before t = 1\n",
    "\n",
    "    # This implementation extends the standard implementation of the\n",
    "    # duration-dependant Viterbi algorithm by allowing the durations to\n",
    "    # extend beyond the start and end of the time series, thereby allowing\n",
    "    # states to \"start\" and \"stop\" outside of the recorded signal. This\n",
    "    # addresses the issue of partial states at the beginning and end of the\n",
    "    # signal being labelled as the incorrect state. For instance, a\n",
    "    # short-duration diastole at the beginning of a signal looks a lot like\n",
    "    # systole, and can lead to labelling errors.\n",
    "\n",
    "    # t spans input 2 to T + max_duration_D:\n",
    "\n",
    "for t in range(1,T+max_duration_D-1):\n",
    "    for j in range(N):\n",
    "        for d in range(max_duration_D):\n",
    "\n",
    "            # The start of the analysis window, which is the current time\n",
    "            # step, minus d (the time horizon we are currently looking back),\n",
    "            # plus 1. The analysis window can be seen to be starting one\n",
    "            # step back each time the variable d is increased.\n",
    "            # This is clamped to 1 if extending past the start of the\n",
    "            # record, and T-1 is extending past the end of the record:\n",
    "            start_t = t - d - 1\n",
    "            if(start_t<0):\n",
    "                start_t = 0\n",
    "\n",
    "            if(start_t > T-2):\n",
    "                start_t = T-2\n",
    "                \n",
    "\n",
    "            # The end of the analysis window, which is the current time\n",
    "            # step, unless the time has gone past T, the end of the record, in\n",
    "            # which case it is truncated to T. This allows the analysis\n",
    "            # window to extend past the end of the record, so that the\n",
    "            # timing durations of the states do not have to \"end\" at the end\n",
    "            # of the record.\n",
    "            end_t = t+1\n",
    "            if(t>T):\n",
    "                end_t = T\n",
    "\n",
    "            # Find the max_delta and index of that from the previous step\n",
    "            # and the transition to the current step:\n",
    "            # This is the first half of the expression of equation 33a from\n",
    "            # Rabiner:\n",
    "            max_delta =    np.max(delta[start_t,:] + np.log(a_matrix[:,j]+epsilon))\n",
    "            max_index = np.argmax(delta[start_t,:] + np.log(a_matrix[:,j]+epsilon))\n",
    "\n",
    "            # Find the normalised probabilities of the observations over the\n",
    "            # analysis window:\n",
    "            probs = np.prod(observation_probs[start_t:end_t,j])\n",
    "\n",
    "            # Find the normalised probabilities of the observations at only\n",
    "            # the time point at the start of the time window:\n",
    "            if(probs == 0):\n",
    "                probs = np.finfo(float).tiny\n",
    "            emission_probs = np.log(probs)\n",
    "\n",
    "            # Keep a running total of the emmission probabilities as the\n",
    "            # start point of the time window is moved back one step at a\n",
    "            # time. This is the probability of seeing all the observations\n",
    "            # in the analysis window in state j:\n",
    "            if(emission_probs == 0 or np.isnan(emission_probs)):\n",
    "                emission_probs = np.finfo(float).tiny\n",
    "\n",
    "            # Find the total probability of transitioning from the last\n",
    "            # state to this one, with the observations and being in the same\n",
    "            # state for the analysis window. This is the duration-dependant\n",
    "            # variation of equation 33a from Rabiner:\n",
    "            #                 fprintf('log((duration_probs(j,d)./duration_sum(j))):%d\\n',log((duration_probs(j,d)./duration_sum(j))));\n",
    "            delta_temp = max_delta + emission_probs + np.log((duration_probs[j,d]/duration_sum[j]))\n",
    "\n",
    "            # Unlike equation 33a from Rabiner, the maximum delta could come\n",
    "            # from multiple d values, or from multiple size of the analysis\n",
    "            # window. Therefore, only keep the maximum delta value over the\n",
    "            # entire analysis window:\n",
    "            # If this probability is greater than the last greatest,\n",
    "            # update the delta matrix and the time duration variable:\n",
    "\n",
    "            if(delta_temp > delta[t,j]):\n",
    "                delta[t,j] = delta_temp\n",
    "                psi[t,j] = max_index\n",
    "                psi_duration[t,j] = d"
   ]
  },
  {
   "cell_type": "code",
   "execution_count": 32,
   "metadata": {},
   "outputs": [
    {
     "data": {
      "text/plain": [
       "((57, 4),\n",
       " array([[-5461.60722429, -5498.83351433, -5499.98473297, -5462.48968615],\n",
       "        [-5461.10722429, -5495.8520516 , -5501.60098569, -5462.26174752],\n",
       "        [-5460.91955165, -5492.9720516 , -5503.86118336, -5462.17195351],\n",
       "        [-5460.48586912, -5490.25509126, -5506.36118336, -5462.22030413]]))"
      ]
     },
     "execution_count": 32,
     "metadata": {},
     "output_type": "execute_result"
    }
   ],
   "source": [
    "temp_delta = delta[T:,:]\n",
    "temp_delta.shape,temp_delta[:4,:]"
   ]
  },
  {
   "cell_type": "code",
   "execution_count": 27,
   "metadata": {},
   "outputs": [
    {
     "data": {
      "text/plain": [
       "(3, 12)"
      ]
     },
     "execution_count": 27,
     "metadata": {},
     "output_type": "execute_result"
    }
   ],
   "source": [
    "idx = np.argmax(temp_delta)\n",
    "pos,_ = ind2sub(temp_delta.shape, idx)\n",
    "pos = int(pos)\n",
    "pos, idx"
   ]
  },
  {
   "cell_type": "code",
   "execution_count": 28,
   "metadata": {},
   "outputs": [
    {
     "data": {
      "text/plain": [
       "1703"
      ]
     },
     "execution_count": 28,
     "metadata": {},
     "output_type": "execute_result"
    }
   ],
   "source": [
    "pos = pos + T\n",
    "pos"
   ]
  },
  {
   "cell_type": "code",
   "execution_count": 29,
   "metadata": {},
   "outputs": [
    {
     "data": {
      "text/plain": [
       "(7028,)"
      ]
     },
     "execution_count": 29,
     "metadata": {},
     "output_type": "execute_result"
    }
   ],
   "source": [
    "np.ndarray.flatten(delta).shape"
   ]
  },
  {
   "cell_type": "code",
   "execution_count": 30,
   "metadata": {},
   "outputs": [
    {
     "data": {
      "text/plain": [
       "array([-5460.48586912, -5490.25509126, -5506.36118336, -5462.22030413])"
      ]
     },
     "execution_count": 30,
     "metadata": {},
     "output_type": "execute_result"
    }
   ],
   "source": [
    "delta[pos,:]"
   ]
  },
  {
   "cell_type": "code",
   "execution_count": 31,
   "metadata": {},
   "outputs": [
    {
     "data": {
      "text/plain": [
       "-1"
      ]
     },
     "execution_count": 31,
     "metadata": {},
     "output_type": "execute_result"
    }
   ],
   "source": [
    "# 1)\n",
    "state = np.argmax(delta[pos,:]) - 1 # -1 corrige para índices do Python\n",
    "state"
   ]
  },
  {
   "cell_type": "code",
   "execution_count": 33,
   "metadata": {},
   "outputs": [
    {
     "data": {
      "text/plain": [
       "2"
      ]
     },
     "execution_count": 33,
     "metadata": {},
     "output_type": "execute_result"
    }
   ],
   "source": [
    "# 2)\n",
    "offset = pos + 1\n",
    "preceding_state = psi[offset,state]\n",
    "preceding_state"
   ]
  },
  {
   "cell_type": "code",
   "execution_count": 34,
   "metadata": {},
   "outputs": [
    {
     "data": {
      "text/plain": [
       "1668"
      ]
     },
     "execution_count": 34,
     "metadata": {},
     "output_type": "execute_result"
    }
   ],
   "source": [
    "# 3)\n",
    "# state_duration = psi_duration(offset, state);\n",
    "onset = int(offset - psi_duration[offset,state])\n",
    "onset"
   ]
  },
  {
   "cell_type": "code",
   "execution_count": 35,
   "metadata": {},
   "outputs": [
    {
     "data": {
      "text/plain": [
       "array([-1, -1, -1, -1, -1, -1, -1, -1, -1, -1, -1, -1, -1, -1, -1, -1, -1,\n",
       "       -1, -1, -1, -1, -1, -1, -1, -1, -1, -1, -1, -1, -1, -1, -1, -1, -1,\n",
       "       -1, -1])"
      ]
     },
     "execution_count": 35,
     "metadata": {},
     "output_type": "execute_result"
    }
   ],
   "source": [
    "# 4)\n",
    "qt[onset:offset] = state\n",
    "qt[onset:offset]"
   ]
  },
  {
   "cell_type": "code",
   "execution_count": 36,
   "metadata": {},
   "outputs": [],
   "source": [
    "# The state is then updated to the preceding state, found above, which must\n",
    "# end when the last most likely state started in the observation sequence:\n",
    "state = preceding_state\n",
    "\n",
    "count = 0\n",
    "# While the onset of the state is larger than the maximum duration\n",
    "# specified:"
   ]
  },
  {
   "cell_type": "code",
   "execution_count": 37,
   "metadata": {},
   "outputs": [],
   "source": [
    "while(onset > 1):\n",
    "\n",
    "    #2)\n",
    "    offset = onset - 1\n",
    "    #     offset_array(offset,1) = inf;\n",
    "    preceding_state = psi[offset,state]\n",
    "    #     offset_array(offset,2) = preceding_state;\n",
    "\n",
    "\n",
    "    #3)\n",
    "    #     state_duration = psi_duration(offset, state);\n",
    "    onset = offset - psi_duration[offset,state] + 1\n",
    "\n",
    "    #4)\n",
    "    #     offset_array(onset:offset,3) = state;\n",
    "\n",
    "    if(onset<1):\n",
    "        onset = 0\n",
    "\n",
    "    qt[onset:offset] = state\n",
    "    state = preceding_state\n",
    "    count = count + 1\n",
    "\n",
    "    if(count > 1000):\n",
    "        break\n",
    "\n",
    "qt = qt[:T]"
   ]
  },
  {
   "cell_type": "code",
   "execution_count": 44,
   "metadata": {},
   "outputs": [
    {
     "data": {
      "text/plain": [
       "array([3, 3, 3, 3, 3, 3, 3, 3, 3, 0, 0, 0, 0, 0, 0, 0, 0, 1, 1, 1, 1, 1,\n",
       "       1, 1, 1, 1, 1, 1, 1, 1, 0, 2, 2, 2, 2, 0, 3, 3, 3, 3, 3, 3, 3, 3,\n",
       "       3, 3, 3, 3, 3, 3, 3, 3, 3, 3, 3, 3, 3, 3, 3, 3, 3, 3, 3, 3, 3, 3,\n",
       "       3, 3, 0, 0, 0, 0, 0, 0, 0, 1, 1, 1, 1, 1, 1, 1, 1, 1, 1, 1, 1, 1,\n",
       "       0, 2, 2, 2, 2, 2, 0, 3, 3, 3, 3, 3])"
      ]
     },
     "execution_count": 44,
     "metadata": {},
     "output_type": "execute_result"
    }
   ],
   "source": [
    "qt[1000:1100]"
   ]
  },
  {
   "cell_type": "code",
   "execution_count": null,
   "metadata": {},
   "outputs": [],
   "source": []
  }
 ],
 "metadata": {
  "kernelspec": {
   "display_name": "Python 3",
   "language": "python",
   "name": "python3"
  },
  "language_info": {
   "codemirror_mode": {
    "name": "ipython",
    "version": 3
   },
   "file_extension": ".py",
   "mimetype": "text/x-python",
   "name": "python",
   "nbconvert_exporter": "python",
   "pygments_lexer": "ipython3",
   "version": "3.7.5"
  }
 },
 "nbformat": 4,
 "nbformat_minor": 2
}
