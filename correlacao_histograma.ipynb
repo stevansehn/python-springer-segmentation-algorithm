{
 "cells": [
  {
   "cell_type": "code",
   "execution_count": 1,
   "metadata": {},
   "outputs": [],
   "source": [
    "import numpy as np\n",
    "import pathlib\n",
    "import matplotlib.pyplot as plt\n",
    "import scipy.io as scio\n",
    "import pandas\n",
    "from scipy.stats import pearsonr\n",
    "from progressbar import progressbar"
   ]
  },
  {
   "cell_type": "code",
   "execution_count": 2,
   "metadata": {},
   "outputs": [],
   "source": [
    "def statenum(i):\n",
    "    switcher={\n",
    "            'S1':1,\n",
    "            'systole':2,\n",
    "            'S2':3,\n",
    "            'diastole':4,\n",
    "             }\n",
    "    return switcher.get(i,0)\n",
    "\n",
    "def get_states(seg_data):\n",
    "    indexList = seg_data['index']\n",
    "    stateList = seg_data['state_name']\n",
    "    size = indexList[-1]\n",
    "\n",
    "    states = []\n",
    "    j = 1\n",
    "    for i in range(size):\n",
    "        states.append(statenum(stateList[j-1]))\n",
    "        if (i == indexList[j]):\n",
    "            if (j<indexList.size-1):\n",
    "                j += 1\n",
    "            else:\n",
    "                j = indexList.size-1\n",
    "\n",
    "    return np.array(states)\n",
    "\n",
    "def get_states_mat(MATLAB_seg_data, key):\n",
    "    indexList = np.floor(MATLAB_seg_data[key][:,0])\n",
    "    stateList = MATLAB_seg_data[key][:,1]\n",
    "    size = indexList[-1]\n",
    "\n",
    "    MATLABstates = []\n",
    "    j = 1\n",
    "    for i in range(size):\n",
    "        MATLABstates.append(statenum(stateList[j-1]))\n",
    "        if (i == indexList[j]):\n",
    "            if (j<indexList.size-1):\n",
    "                j += 1\n",
    "            else:\n",
    "                j = indexList.size-1\n",
    "\n",
    "    return np.array(MATLABstates)"
   ]
  },
  {
   "cell_type": "code",
   "execution_count": 4,
   "metadata": {},
   "outputs": [
    {
     "name": "stderr",
     "output_type": "stream",
     "text": [
      "100% (409 of 409) |######################| Elapsed Time: 0:00:37 Time:  0:00:37\n",
      "100% (490 of 490) |######################| Elapsed Time: 0:00:11 Time:  0:00:11\n",
      "100% (31 of 31) |########################| Elapsed Time: 0:00:04 Time:  0:00:04\n",
      "100% (55 of 55) |########################| Elapsed Time: 0:00:02 Time:  0:00:02\n",
      "100% (2141 of 2141) |####################| Elapsed Time: 0:02:22 Time:  0:02:22\n",
      "100% (114 of 114) |######################| Elapsed Time: 0:00:11 Time:  0:00:11\n"
     ]
    }
   ],
   "source": [
    "## Define os paths\n",
    "Root = '/media/linse/DADOS/stevan/datasets/heart-sound'\n",
    "Root = pathlib.Path(Root)\n",
    "\n",
    "inputPath = Root/'python_segmentation/'\n",
    "\n",
    "segPath1 = Root/'extra_data/hand_corrected_annotations_training/'\n",
    "segPath2 = Root/'extra_data/automated_Springer_annotations_training/'\n",
    "\n",
    "figsPath = '/home/linse/stevan/Qualirede/segmentador/figures'\n",
    "figsPath = pathlib.Path(figsPath)\n",
    "\n",
    "metadataPath = '/media/linse/DADOS/stevan/datasets/heart-sound/training/metadata.csv'\n",
    "df = pandas.read_csv(metadataPath)\n",
    "record_name = df['record_name']\n",
    "\n",
    "## Coloca as listas em ordem alfabética\n",
    "folderList = sorted(list(inputPath.glob('training*')))\n",
    "segFolderList1 = sorted(list(segPath1.glob('training*')))\n",
    "segFolderList2 = sorted(list(segPath2.glob('training*')))\n",
    "\n",
    "r_list = []\n",
    "\n",
    "# 'training-a/', 'training-b/', 'training-c/', 'training-d/', 'training-e/', 'training-f/'\n",
    "j = 0\n",
    "for i in range(len(folderList)):\n",
    "    \n",
    "    folderName = folderList[i].name\n",
    "    \n",
    "    inFolder = inputPath / folderName\n",
    "    \n",
    "    segInFolder1 = segPath1 / folderName\n",
    "    folderName = folderName + '-Aut'\n",
    "    segInFolder2 = segPath2 / folderName\n",
    "    \n",
    "    fileList = sorted(list(inFolder.glob('*.npz')))\n",
    "\n",
    "    for k in progressbar(range(len(fileList))):\n",
    "        \n",
    "        fileName = inFolder / fileList[k]\n",
    "\n",
    "        # Verifica se tem hand corrected, caso contrário usa automated\n",
    "        if (fileList[k].stem.rsplit('-')[0] == record_name[j]):\n",
    "            fname = record_name[j] + '_StateAns.mat'\n",
    "            segName = segInFolder1 / fname\n",
    "            key = 'state_ans'\n",
    "            j+=1\n",
    "        else:\n",
    "            fname = record_name[j] + '_StateAns0.mat'\n",
    "            segName = segInFolder2 / fname\n",
    "            key = 'state_ans0'   \n",
    "\n",
    "#         print(f'{folderList[i].name} | File {k+1} of {len(fileList)} | {fileList[k].stem}')\n",
    "        \n",
    "        seg_data1 = np.load(fileName)\n",
    "        states1 = get_states(seg_data1)+1\n",
    "        seg_data2 = scio.loadmat(segName, struct_as_record=False, squeeze_me=True)\n",
    "        states2 = get_states_mat(seg_data2, key)\n",
    "        \n",
    "        if (states1.size!=states2.size): # Verifica se são do mesmo tamanho\n",
    "            if (states1.size>states2.size):\n",
    "                states1 = states1[:states2.size]\n",
    "            else:\n",
    "                states2 = states2[:states1.size]\n",
    "        \n",
    "        r, _ = pearsonr(states1,states2) # Calcula o coeficiente de correlação de Pearson\n",
    "        r_list.append(r)"
   ]
  },
  {
   "cell_type": "code",
   "execution_count": 5,
   "metadata": {},
   "outputs": [
    {
     "name": "stderr",
     "output_type": "stream",
     "text": [
      "/home/linse/miniconda3/lib/python3.7/site-packages/numpy/lib/histograms.py:393: RuntimeWarning: invalid value encountered in greater_equal\n",
      "  keep = (a >= first_edge)\n",
      "/home/linse/miniconda3/lib/python3.7/site-packages/numpy/lib/histograms.py:394: RuntimeWarning: invalid value encountered in less_equal\n",
      "  keep &= (a <= last_edge)\n",
      "/home/linse/miniconda3/lib/python3.7/site-packages/numpy/lib/histograms.py:829: RuntimeWarning: invalid value encountered in greater_equal\n",
      "  keep = (tmp_a >= first_edge)\n",
      "/home/linse/miniconda3/lib/python3.7/site-packages/numpy/lib/histograms.py:830: RuntimeWarning: invalid value encountered in less_equal\n",
      "  keep &= (tmp_a <= last_edge)\n"
     ]
    },
    {
     "data": {
      "text/plain": [
       "Text(0.5, 1.0, 'Histograma')"
      ]
     },
     "execution_count": 5,
     "metadata": {},
     "output_type": "execute_result"
    },
    {
     "data": {
      "image/png": "[encoded data removed]",
      "text/plain": [
       "<Figure size 936x504 with 1 Axes>"
      ]
     },
     "metadata": {
      "needs_background": "light"
     },
     "output_type": "display_data"
    }
   ],
   "source": [
    "plt.figure(figsize=(13,7))\n",
    "n, bins, patches = plt.hist(x=r_list, bins='auto',rwidth=0.85)\n",
    "plt.grid(axis='y')\n",
    "plt.xlabel('Correlação',fontsize=13)\n",
    "plt.ylabel('Frequência',fontsize=13)\n",
    "plt.title('Histograma',fontsize=15)"
   ]
  },
  {
   "cell_type": "code",
   "execution_count": 6,
   "metadata": {},
   "outputs": [
    {
     "data": {
      "text/plain": [
       "(array([  1.,   0.,   1.,   0.,   0.,   1.,   0.,   0.,   0.,   0.,   0.,\n",
       "          1.,   0.,   0.,   0.,   0.,   0.,   0.,   0.,   0.,   0.,   0.,\n",
       "          0.,   0.,   0.,   0.,   0.,   2.,   0.,   0.,   1.,   1.,   0.,\n",
       "          0.,   1.,   0.,   0.,   1.,   1.,   1.,   0.,   1.,   0.,   2.,\n",
       "          2.,   1.,   3.,  11.,  10.,  12.,   4.,  11.,  17.,   4.,   6.,\n",
       "          4.,   3.,   3.,   5.,   2.,   3.,  10.,   4.,   3.,   3.,   7.,\n",
       "          4.,   6.,   4.,   9.,   9.,   9.,  13.,  14.,   9.,   4.,   8.,\n",
       "          6.,   3.,   3.,   6.,   6.,   5.,   4.,   8.,   7.,   6.,   5.,\n",
       "          8.,   7.,   6.,   2.,   8.,   5.,   8.,  10.,   6.,  12.,  18.,\n",
       "         12.,  23.,  14.,  16.,  18.,  18.,  16.,  21.,  18.,  39.,  34.,\n",
       "         43.,  63.,  74.,  82., 103., 135., 229., 329., 350., 375., 341.,\n",
       "        204.,  22.]),\n",
       " array([-0.67458375, -0.66130049, -0.64801724, -0.63473398, -0.62145073,\n",
       "        -0.60816747, -0.59488422, -0.58160096, -0.56831771, -0.55503445,\n",
       "        -0.5417512 , -0.52846795, -0.51518469, -0.50190144, -0.48861818,\n",
       "        -0.47533493, -0.46205167, -0.44876842, -0.43548516, -0.42220191,\n",
       "        -0.40891865, -0.3956354 , -0.38235214, -0.36906889, -0.35578563,\n",
       "        -0.34250238, -0.32921912, -0.31593587, -0.30265261, -0.28936936,\n",
       "        -0.2760861 , -0.26280285, -0.24951959, -0.23623634, -0.22295308,\n",
       "        -0.20966983, -0.19638657, -0.18310332, -0.16982006, -0.15653681,\n",
       "        -0.14325355, -0.1299703 , -0.11668704, -0.10340379, -0.09012053,\n",
       "        -0.07683728, -0.06355403, -0.05027077, -0.03698752, -0.02370426,\n",
       "        -0.01042101,  0.00286225,  0.0161455 ,  0.02942876,  0.04271201,\n",
       "         0.05599527,  0.06927852,  0.08256178,  0.09584503,  0.10912829,\n",
       "         0.12241154,  0.1356948 ,  0.14897805,  0.16226131,  0.17554456,\n",
       "         0.18882782,  0.20211107,  0.21539433,  0.22867758,  0.24196084,\n",
       "         0.25524409,  0.26852735,  0.2818106 ,  0.29509386,  0.30837711,\n",
       "         0.32166037,  0.33494362,  0.34822688,  0.36151013,  0.37479339,\n",
       "         0.38807664,  0.40135989,  0.41464315,  0.4279264 ,  0.44120966,\n",
       "         0.45449291,  0.46777617,  0.48105942,  0.49434268,  0.50762593,\n",
       "         0.52090919,  0.53419244,  0.5474757 ,  0.56075895,  0.57404221,\n",
       "         0.58732546,  0.60060872,  0.61389197,  0.62717523,  0.64045848,\n",
       "         0.65374174,  0.66702499,  0.68030825,  0.6935915 ,  0.70687476,\n",
       "         0.72015801,  0.73344127,  0.74672452,  0.76000778,  0.77329103,\n",
       "         0.78657429,  0.79985754,  0.8131408 ,  0.82642405,  0.83970731,\n",
       "         0.85299056,  0.86627382,  0.87955707,  0.89284032,  0.90612358,\n",
       "         0.91940683,  0.93269009,  0.94597334,  0.9592566 ]))"
      ]
     },
     "execution_count": 6,
     "metadata": {},
     "output_type": "execute_result"
    }
   ],
   "source": [
    "n, bins"
   ]
  },
  {
   "cell_type": "code",
   "execution_count": 7,
   "metadata": {},
   "outputs": [
    {
     "data": {
      "text/plain": [
       "375.0"
      ]
     },
     "execution_count": 7,
     "metadata": {},
     "output_type": "execute_result"
    }
   ],
   "source": [
    "n.max()"
   ]
  },
  {
   "cell_type": "code",
   "execution_count": 8,
   "metadata": {},
   "outputs": [
    {
     "data": {
      "text/plain": [
       "119"
      ]
     },
     "execution_count": 8,
     "metadata": {},
     "output_type": "execute_result"
    }
   ],
   "source": [
    "ind = np.argmax(n)\n",
    "ind"
   ]
  },
  {
   "cell_type": "code",
   "execution_count": 9,
   "metadata": {},
   "outputs": [
    {
     "data": {
      "text/plain": [
       "0.9061235797037173"
      ]
     },
     "execution_count": 9,
     "metadata": {},
     "output_type": "execute_result"
    }
   ],
   "source": [
    "bins[ind]"
   ]
  },
  {
   "cell_type": "code",
   "execution_count": null,
   "metadata": {},
   "outputs": [],
   "source": []
  }
 ],
 "metadata": {
  "kernelspec": {
   "display_name": "Python 3",
   "language": "python",
   "name": "python3"
  },
  "language_info": {
   "codemirror_mode": {
    "name": "ipython",
    "version": 3
   },
   "file_extension": ".py",
   "mimetype": "text/x-python",
   "name": "python",
   "nbconvert_exporter": "python",
   "pygments_lexer": "ipython3",
   "version": "3.7.5"
  }
 },
 "nbformat": 4,
 "nbformat_minor": 2
}
